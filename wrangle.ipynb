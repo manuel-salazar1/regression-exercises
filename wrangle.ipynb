{
 "cells": [
  {
   "cell_type": "code",
   "execution_count": 1,
   "id": "3e21305b-13c9-41ac-8187-33950ab471a8",
   "metadata": {},
   "outputs": [],
   "source": [
    "import pandas as pd \n",
    "import numpy as np\n",
    "\n",
    "from env import username, password, get_db_url\n",
    "import os\n",
    "\n",
    "import matplotlib.pyplot as plt\n",
    "import seaborn as sns\n",
    "\n",
    "import wrangle"
   ]
  },
  {
   "cell_type": "markdown",
   "id": "11f7c890-c27a-4034-811f-c41b93605d8c",
   "metadata": {},
   "source": [
    "# Exercises II"
   ]
  },
  {
   "cell_type": "markdown",
   "id": "c49fed4c-f1eb-4e22-a6a4-289c6af09230",
   "metadata": {},
   "source": [
    "### 1. Acquire bedroomcnt, bathroomcnt, calculatedfinishedsquarefeet, taxvaluedollarcnt, yearbuilt, taxamount, and fips from the zillow database for all 'Single Family Residential' properties."
   ]
  },
  {
   "cell_type": "code",
   "execution_count": 2,
   "id": "ddfbeaec-bca6-4d74-b96f-f983d689a849",
   "metadata": {},
   "outputs": [],
   "source": [
    "def new_zillow_data():\n",
    "    \"\"\"\n",
    "    This function will:\n",
    "    - create a connect_url to mySQL\n",
    "    - return a df of the given query from the zillow db\n",
    "    \"\"\"\n",
    "    url = get_db_url('zillow')\n",
    "    SQL_query = '''\n",
    "                select bedroomcnt as bedrooms, bathroomcnt as bathrooms, calculatedfinishedsquarefeet as sqft\n",
    "                    , taxvaluedollarcnt as tax_value, yearbuilt as year_built, taxamount as tax_amount, fips\n",
    "                from propertylandusetype\n",
    "                join properties_2017 on propertylandusetype.propertylandusetypeid = properties_2017.propertylandusetypeid\n",
    "                    and properties_2017.propertylandusetypeid = 261\n",
    "                '''\n",
    "    return pd.read_sql(SQL_query, url)"
   ]
  },
  {
   "cell_type": "code",
   "execution_count": 3,
   "id": "eaa58062-33e6-44bd-b7dc-6a1f5e4eaef0",
   "metadata": {},
   "outputs": [],
   "source": [
    "def get_zillow_data(filename=\"zillow.csv\"):\n",
    "    \"\"\"\n",
    "    This function will:\n",
    "    - Check local directory for csv file\n",
    "        - return if exists\n",
    "    - If csv doesn't exists:\n",
    "        - create a df of the SQL_query\n",
    "        - write df to csv\n",
    "    - Output zillow df\n",
    "    \"\"\"\n",
    "    if os.path.exists(filename):\n",
    "        df = pd.read_csv(filename, index_col=0) \n",
    "        print('Found CSV')\n",
    "        return df\n",
    "    \n",
    "    else:\n",
    "        df = new_zillow_data()\n",
    "        \n",
    "        #want to save to csv\n",
    "        df.to_csv(filename)\n",
    "        print('Creating CSV')\n",
    "        return df"
   ]
  },
  {
   "cell_type": "code",
   "execution_count": 2,
   "id": "52158129-0ae9-4875-a486-08d852ed0115",
   "metadata": {},
   "outputs": [
    {
     "name": "stdout",
     "output_type": "stream",
     "text": [
      "Found CSV\n"
     ]
    }
   ],
   "source": [
    "df = wrangle.get_zillow_data()"
   ]
  },
  {
   "cell_type": "markdown",
   "id": "924059db-45fb-4d5a-9a36-e1a4b21e35c1",
   "metadata": {},
   "source": [
    "### 2. Using your acquired Zillow data, walk through the summarization and cleaning steps in your wrangle.ipynb file like we did above. You may handle the missing values however you feel is appropriate and meaningful; remember to document your process and decisions using markdown and code commenting where helpful."
   ]
  },
  {
   "cell_type": "code",
   "execution_count": 3,
   "id": "11d0ceef-e4c7-451c-aaee-56046dd6e256",
   "metadata": {},
   "outputs": [
    {
     "data": {
      "text/plain": [
       "(2152863, 7)"
      ]
     },
     "execution_count": 3,
     "metadata": {},
     "output_type": "execute_result"
    }
   ],
   "source": [
    "df.shape"
   ]
  },
  {
   "cell_type": "code",
   "execution_count": 4,
   "id": "47775ec9-1c23-4654-9058-baefadbd25b7",
   "metadata": {},
   "outputs": [
    {
     "name": "stdout",
     "output_type": "stream",
     "text": [
      "<class 'pandas.core.frame.DataFrame'>\n",
      "Int64Index: 2152863 entries, 0 to 2152862\n",
      "Data columns (total 7 columns):\n",
      " #   Column      Dtype  \n",
      "---  ------      -----  \n",
      " 0   bedrooms    float64\n",
      " 1   bathrooms   float64\n",
      " 2   sqft        float64\n",
      " 3   tax_value   float64\n",
      " 4   year_built  float64\n",
      " 5   tax_amount  float64\n",
      " 6   fips        float64\n",
      "dtypes: float64(7)\n",
      "memory usage: 131.4 MB\n"
     ]
    }
   ],
   "source": [
    "df.info()"
   ]
  },
  {
   "cell_type": "code",
   "execution_count": 5,
   "id": "3feaeb21-9e28-4b79-b316-cdf73cd36729",
   "metadata": {},
   "outputs": [
    {
     "data": {
      "text/html": [
       "<div>\n",
       "<style scoped>\n",
       "    .dataframe tbody tr th:only-of-type {\n",
       "        vertical-align: middle;\n",
       "    }\n",
       "\n",
       "    .dataframe tbody tr th {\n",
       "        vertical-align: top;\n",
       "    }\n",
       "\n",
       "    .dataframe thead th {\n",
       "        text-align: right;\n",
       "    }\n",
       "</style>\n",
       "<table border=\"1\" class=\"dataframe\">\n",
       "  <thead>\n",
       "    <tr style=\"text-align: right;\">\n",
       "      <th></th>\n",
       "      <th>bedrooms</th>\n",
       "      <th>bathrooms</th>\n",
       "      <th>sqft</th>\n",
       "      <th>tax_value</th>\n",
       "      <th>year_built</th>\n",
       "      <th>tax_amount</th>\n",
       "      <th>fips</th>\n",
       "    </tr>\n",
       "  </thead>\n",
       "  <tbody>\n",
       "    <tr>\n",
       "      <th>0</th>\n",
       "      <td>0.0</td>\n",
       "      <td>0.0</td>\n",
       "      <td>NaN</td>\n",
       "      <td>27516.0</td>\n",
       "      <td>NaN</td>\n",
       "      <td>NaN</td>\n",
       "      <td>6037.0</td>\n",
       "    </tr>\n",
       "    <tr>\n",
       "      <th>1</th>\n",
       "      <td>0.0</td>\n",
       "      <td>0.0</td>\n",
       "      <td>NaN</td>\n",
       "      <td>10.0</td>\n",
       "      <td>NaN</td>\n",
       "      <td>NaN</td>\n",
       "      <td>6037.0</td>\n",
       "    </tr>\n",
       "    <tr>\n",
       "      <th>2</th>\n",
       "      <td>0.0</td>\n",
       "      <td>0.0</td>\n",
       "      <td>NaN</td>\n",
       "      <td>10.0</td>\n",
       "      <td>NaN</td>\n",
       "      <td>NaN</td>\n",
       "      <td>6037.0</td>\n",
       "    </tr>\n",
       "    <tr>\n",
       "      <th>3</th>\n",
       "      <td>0.0</td>\n",
       "      <td>0.0</td>\n",
       "      <td>NaN</td>\n",
       "      <td>2108.0</td>\n",
       "      <td>NaN</td>\n",
       "      <td>174.21</td>\n",
       "      <td>6037.0</td>\n",
       "    </tr>\n",
       "    <tr>\n",
       "      <th>4</th>\n",
       "      <td>4.0</td>\n",
       "      <td>2.0</td>\n",
       "      <td>3633.0</td>\n",
       "      <td>296425.0</td>\n",
       "      <td>2005.0</td>\n",
       "      <td>6941.39</td>\n",
       "      <td>6037.0</td>\n",
       "    </tr>\n",
       "  </tbody>\n",
       "</table>\n",
       "</div>"
      ],
      "text/plain": [
       "   bedrooms  bathrooms    sqft  tax_value  year_built  tax_amount    fips\n",
       "0       0.0        0.0     NaN    27516.0         NaN         NaN  6037.0\n",
       "1       0.0        0.0     NaN       10.0         NaN         NaN  6037.0\n",
       "2       0.0        0.0     NaN       10.0         NaN         NaN  6037.0\n",
       "3       0.0        0.0     NaN     2108.0         NaN      174.21  6037.0\n",
       "4       4.0        2.0  3633.0   296425.0      2005.0     6941.39  6037.0"
      ]
     },
     "execution_count": 5,
     "metadata": {},
     "output_type": "execute_result"
    }
   ],
   "source": [
    "df.head()"
   ]
  },
  {
   "cell_type": "code",
   "execution_count": 6,
   "id": "3b7c7fbb-cd66-400c-ada5-c7a7dd729ad0",
   "metadata": {},
   "outputs": [
    {
     "data": {
      "text/plain": [
       "bedrooms        11\n",
       "bathrooms       11\n",
       "sqft          8484\n",
       "tax_value      493\n",
       "year_built    9337\n",
       "tax_amount    4442\n",
       "fips             0\n",
       "dtype: int64"
      ]
     },
     "execution_count": 6,
     "metadata": {},
     "output_type": "execute_result"
    }
   ],
   "source": [
    "df.isnull().sum()"
   ]
  },
  {
   "cell_type": "markdown",
   "id": "db1fca8c-84d3-49ec-899e-dcd2112c1951",
   "metadata": {},
   "source": [
    "Takeaways:\n",
    "- everything is float\n",
    "- target variable: tax_value\n",
    "- fips is a county code and serves as a categorical variable"
   ]
  },
  {
   "cell_type": "markdown",
   "id": "d4612698-8e18-40d0-b1fa-30963deac3fc",
   "metadata": {},
   "source": [
    "#### Change column name"
   ]
  },
  {
   "cell_type": "code",
   "execution_count": 7,
   "id": "5b2e5141-cfc3-4670-a02e-a3876eb378dd",
   "metadata": {},
   "outputs": [
    {
     "data": {
      "text/html": [
       "<div>\n",
       "<style scoped>\n",
       "    .dataframe tbody tr th:only-of-type {\n",
       "        vertical-align: middle;\n",
       "    }\n",
       "\n",
       "    .dataframe tbody tr th {\n",
       "        vertical-align: top;\n",
       "    }\n",
       "\n",
       "    .dataframe thead th {\n",
       "        text-align: right;\n",
       "    }\n",
       "</style>\n",
       "<table border=\"1\" class=\"dataframe\">\n",
       "  <thead>\n",
       "    <tr style=\"text-align: right;\">\n",
       "      <th></th>\n",
       "      <th>bedrooms</th>\n",
       "      <th>bathrooms</th>\n",
       "      <th>sqft</th>\n",
       "      <th>tax_value</th>\n",
       "      <th>year_built</th>\n",
       "      <th>tax_amount</th>\n",
       "      <th>fips</th>\n",
       "    </tr>\n",
       "  </thead>\n",
       "  <tbody>\n",
       "    <tr>\n",
       "      <th>0</th>\n",
       "      <td>0.0</td>\n",
       "      <td>0.0</td>\n",
       "      <td>NaN</td>\n",
       "      <td>27516.0</td>\n",
       "      <td>NaN</td>\n",
       "      <td>NaN</td>\n",
       "      <td>6037.0</td>\n",
       "    </tr>\n",
       "    <tr>\n",
       "      <th>1</th>\n",
       "      <td>0.0</td>\n",
       "      <td>0.0</td>\n",
       "      <td>NaN</td>\n",
       "      <td>10.0</td>\n",
       "      <td>NaN</td>\n",
       "      <td>NaN</td>\n",
       "      <td>6037.0</td>\n",
       "    </tr>\n",
       "    <tr>\n",
       "      <th>2</th>\n",
       "      <td>0.0</td>\n",
       "      <td>0.0</td>\n",
       "      <td>NaN</td>\n",
       "      <td>10.0</td>\n",
       "      <td>NaN</td>\n",
       "      <td>NaN</td>\n",
       "      <td>6037.0</td>\n",
       "    </tr>\n",
       "    <tr>\n",
       "      <th>3</th>\n",
       "      <td>0.0</td>\n",
       "      <td>0.0</td>\n",
       "      <td>NaN</td>\n",
       "      <td>2108.0</td>\n",
       "      <td>NaN</td>\n",
       "      <td>174.21</td>\n",
       "      <td>6037.0</td>\n",
       "    </tr>\n",
       "    <tr>\n",
       "      <th>4</th>\n",
       "      <td>4.0</td>\n",
       "      <td>2.0</td>\n",
       "      <td>3633.0</td>\n",
       "      <td>296425.0</td>\n",
       "      <td>2005.0</td>\n",
       "      <td>6941.39</td>\n",
       "      <td>6037.0</td>\n",
       "    </tr>\n",
       "  </tbody>\n",
       "</table>\n",
       "</div>"
      ],
      "text/plain": [
       "   bedrooms  bathrooms    sqft  tax_value  year_built  tax_amount    fips\n",
       "0       0.0        0.0     NaN    27516.0         NaN         NaN  6037.0\n",
       "1       0.0        0.0     NaN       10.0         NaN         NaN  6037.0\n",
       "2       0.0        0.0     NaN       10.0         NaN         NaN  6037.0\n",
       "3       0.0        0.0     NaN     2108.0         NaN      174.21  6037.0\n",
       "4       4.0        2.0  3633.0   296425.0      2005.0     6941.39  6037.0"
      ]
     },
     "execution_count": 7,
     "metadata": {},
     "output_type": "execute_result"
    }
   ],
   "source": [
    "# changed column names in SQL\n",
    "df.head()"
   ]
  },
  {
   "cell_type": "code",
   "execution_count": 8,
   "id": "99c1262e-8ace-42b9-9f97-e13f6867b687",
   "metadata": {},
   "outputs": [],
   "source": [
    "df = df.rename(columns={'fips': 'county'})"
   ]
  },
  {
   "cell_type": "markdown",
   "id": "0155bb72-3f4f-4a42-a6ff-540d212ade5d",
   "metadata": {},
   "source": [
    "### Handle Nulls"
   ]
  },
  {
   "cell_type": "code",
   "execution_count": 9,
   "id": "1f38007c-50f7-4a6f-8aa4-e64c9033c3c2",
   "metadata": {},
   "outputs": [],
   "source": [
    "df = df.dropna()"
   ]
  },
  {
   "cell_type": "code",
   "execution_count": null,
   "id": "d42f5184-03d9-4349-822b-055415412148",
   "metadata": {},
   "outputs": [],
   "source": []
  },
  {
   "cell_type": "markdown",
   "id": "ea3fb87e-46da-4c0f-9d9f-1f9041938f54",
   "metadata": {},
   "source": [
    "### Check data types"
   ]
  },
  {
   "cell_type": "code",
   "execution_count": 10,
   "id": "02c41f1a-9732-4bb1-8ad8-373a6c30029d",
   "metadata": {},
   "outputs": [
    {
     "name": "stdout",
     "output_type": "stream",
     "text": [
      "<class 'pandas.core.frame.DataFrame'>\n",
      "Int64Index: 2140235 entries, 4 to 2152862\n",
      "Data columns (total 7 columns):\n",
      " #   Column      Dtype  \n",
      "---  ------      -----  \n",
      " 0   bedrooms    float64\n",
      " 1   bathrooms   float64\n",
      " 2   sqft        float64\n",
      " 3   tax_value   float64\n",
      " 4   year_built  float64\n",
      " 5   tax_amount  float64\n",
      " 6   county      float64\n",
      "dtypes: float64(7)\n",
      "memory usage: 130.6 MB\n"
     ]
    }
   ],
   "source": [
    "df.info()"
   ]
  },
  {
   "cell_type": "code",
   "execution_count": 11,
   "id": "88b3e16c-8ccf-4e53-994c-43f923f3c8b4",
   "metadata": {},
   "outputs": [],
   "source": [
    "make_ints = ['bedrooms', 'sqft', 'tax_value', 'year_built']\n",
    "\n",
    "for col in make_ints:\n",
    "    df[col] = df[col].astype(int)"
   ]
  },
  {
   "cell_type": "code",
   "execution_count": 12,
   "id": "551c4f8d-8663-45fc-93bb-ed9952c1c30e",
   "metadata": {},
   "outputs": [
    {
     "name": "stdout",
     "output_type": "stream",
     "text": [
      "<class 'pandas.core.frame.DataFrame'>\n",
      "Int64Index: 2140235 entries, 4 to 2152862\n",
      "Data columns (total 7 columns):\n",
      " #   Column      Dtype  \n",
      "---  ------      -----  \n",
      " 0   bedrooms    int64  \n",
      " 1   bathrooms   float64\n",
      " 2   sqft        int64  \n",
      " 3   tax_value   int64  \n",
      " 4   year_built  int64  \n",
      " 5   tax_amount  float64\n",
      " 6   county      float64\n",
      "dtypes: float64(3), int64(4)\n",
      "memory usage: 130.6 MB\n"
     ]
    }
   ],
   "source": [
    "df.info()"
   ]
  },
  {
   "cell_type": "code",
   "execution_count": 13,
   "id": "d8331063-9c06-4922-9403-8ab24cbfbb28",
   "metadata": {},
   "outputs": [
    {
     "data": {
      "text/html": [
       "<div>\n",
       "<style scoped>\n",
       "    .dataframe tbody tr th:only-of-type {\n",
       "        vertical-align: middle;\n",
       "    }\n",
       "\n",
       "    .dataframe tbody tr th {\n",
       "        vertical-align: top;\n",
       "    }\n",
       "\n",
       "    .dataframe thead th {\n",
       "        text-align: right;\n",
       "    }\n",
       "</style>\n",
       "<table border=\"1\" class=\"dataframe\">\n",
       "  <thead>\n",
       "    <tr style=\"text-align: right;\">\n",
       "      <th></th>\n",
       "      <th>bedrooms</th>\n",
       "      <th>bathrooms</th>\n",
       "      <th>sqft</th>\n",
       "      <th>tax_value</th>\n",
       "      <th>year_built</th>\n",
       "      <th>tax_amount</th>\n",
       "      <th>county</th>\n",
       "    </tr>\n",
       "  </thead>\n",
       "  <tbody>\n",
       "    <tr>\n",
       "      <th>4</th>\n",
       "      <td>4</td>\n",
       "      <td>2.0</td>\n",
       "      <td>3633</td>\n",
       "      <td>296425</td>\n",
       "      <td>2005</td>\n",
       "      <td>6941.39</td>\n",
       "      <td>6037.0</td>\n",
       "    </tr>\n",
       "    <tr>\n",
       "      <th>6</th>\n",
       "      <td>3</td>\n",
       "      <td>4.0</td>\n",
       "      <td>1620</td>\n",
       "      <td>847770</td>\n",
       "      <td>2011</td>\n",
       "      <td>10244.94</td>\n",
       "      <td>6037.0</td>\n",
       "    </tr>\n",
       "    <tr>\n",
       "      <th>7</th>\n",
       "      <td>3</td>\n",
       "      <td>2.0</td>\n",
       "      <td>2077</td>\n",
       "      <td>646760</td>\n",
       "      <td>1926</td>\n",
       "      <td>7924.68</td>\n",
       "      <td>6037.0</td>\n",
       "    </tr>\n",
       "    <tr>\n",
       "      <th>11</th>\n",
       "      <td>0</td>\n",
       "      <td>0.0</td>\n",
       "      <td>1200</td>\n",
       "      <td>5328</td>\n",
       "      <td>1972</td>\n",
       "      <td>91.60</td>\n",
       "      <td>6037.0</td>\n",
       "    </tr>\n",
       "    <tr>\n",
       "      <th>14</th>\n",
       "      <td>0</td>\n",
       "      <td>0.0</td>\n",
       "      <td>171</td>\n",
       "      <td>6920</td>\n",
       "      <td>1973</td>\n",
       "      <td>255.17</td>\n",
       "      <td>6037.0</td>\n",
       "    </tr>\n",
       "  </tbody>\n",
       "</table>\n",
       "</div>"
      ],
      "text/plain": [
       "    bedrooms  bathrooms  sqft  tax_value  year_built  tax_amount  county\n",
       "4          4        2.0  3633     296425        2005     6941.39  6037.0\n",
       "6          3        4.0  1620     847770        2011    10244.94  6037.0\n",
       "7          3        2.0  2077     646760        1926     7924.68  6037.0\n",
       "11         0        0.0  1200       5328        1972       91.60  6037.0\n",
       "14         0        0.0   171       6920        1973      255.17  6037.0"
      ]
     },
     "execution_count": 13,
     "metadata": {},
     "output_type": "execute_result"
    }
   ],
   "source": [
    "df.head()"
   ]
  },
  {
   "cell_type": "markdown",
   "id": "270859bc-0aea-4573-b43f-2c49cc3abe54",
   "metadata": {},
   "source": [
    "6037 - la  \n",
    "6059 - orange  \n",
    "6111 - ventura  "
   ]
  },
  {
   "cell_type": "code",
   "execution_count": 14,
   "id": "0603e9b1-05e3-498f-a9d3-8304579d0bd5",
   "metadata": {},
   "outputs": [],
   "source": [
    "df.county = df.county.map({6037:'LA', 6059:'orange', 6111:'ventura'})"
   ]
  },
  {
   "cell_type": "code",
   "execution_count": 15,
   "id": "e1d6af59-9a3b-41b8-81a4-128c70042b31",
   "metadata": {},
   "outputs": [
    {
     "data": {
      "text/html": [
       "<div>\n",
       "<style scoped>\n",
       "    .dataframe tbody tr th:only-of-type {\n",
       "        vertical-align: middle;\n",
       "    }\n",
       "\n",
       "    .dataframe tbody tr th {\n",
       "        vertical-align: top;\n",
       "    }\n",
       "\n",
       "    .dataframe thead th {\n",
       "        text-align: right;\n",
       "    }\n",
       "</style>\n",
       "<table border=\"1\" class=\"dataframe\">\n",
       "  <thead>\n",
       "    <tr style=\"text-align: right;\">\n",
       "      <th></th>\n",
       "      <th>bedrooms</th>\n",
       "      <th>bathrooms</th>\n",
       "      <th>sqft</th>\n",
       "      <th>tax_value</th>\n",
       "      <th>year_built</th>\n",
       "      <th>tax_amount</th>\n",
       "      <th>county</th>\n",
       "    </tr>\n",
       "  </thead>\n",
       "  <tbody>\n",
       "    <tr>\n",
       "      <th>4</th>\n",
       "      <td>4</td>\n",
       "      <td>2.0</td>\n",
       "      <td>3633</td>\n",
       "      <td>296425</td>\n",
       "      <td>2005</td>\n",
       "      <td>6941.39</td>\n",
       "      <td>LA</td>\n",
       "    </tr>\n",
       "    <tr>\n",
       "      <th>6</th>\n",
       "      <td>3</td>\n",
       "      <td>4.0</td>\n",
       "      <td>1620</td>\n",
       "      <td>847770</td>\n",
       "      <td>2011</td>\n",
       "      <td>10244.94</td>\n",
       "      <td>LA</td>\n",
       "    </tr>\n",
       "    <tr>\n",
       "      <th>7</th>\n",
       "      <td>3</td>\n",
       "      <td>2.0</td>\n",
       "      <td>2077</td>\n",
       "      <td>646760</td>\n",
       "      <td>1926</td>\n",
       "      <td>7924.68</td>\n",
       "      <td>LA</td>\n",
       "    </tr>\n",
       "    <tr>\n",
       "      <th>11</th>\n",
       "      <td>0</td>\n",
       "      <td>0.0</td>\n",
       "      <td>1200</td>\n",
       "      <td>5328</td>\n",
       "      <td>1972</td>\n",
       "      <td>91.60</td>\n",
       "      <td>LA</td>\n",
       "    </tr>\n",
       "    <tr>\n",
       "      <th>14</th>\n",
       "      <td>0</td>\n",
       "      <td>0.0</td>\n",
       "      <td>171</td>\n",
       "      <td>6920</td>\n",
       "      <td>1973</td>\n",
       "      <td>255.17</td>\n",
       "      <td>LA</td>\n",
       "    </tr>\n",
       "  </tbody>\n",
       "</table>\n",
       "</div>"
      ],
      "text/plain": [
       "    bedrooms  bathrooms  sqft  tax_value  year_built  tax_amount county\n",
       "4          4        2.0  3633     296425        2005     6941.39     LA\n",
       "6          3        4.0  1620     847770        2011    10244.94     LA\n",
       "7          3        2.0  2077     646760        1926     7924.68     LA\n",
       "11         0        0.0  1200       5328        1972       91.60     LA\n",
       "14         0        0.0   171       6920        1973      255.17     LA"
      ]
     },
     "execution_count": 15,
     "metadata": {},
     "output_type": "execute_result"
    }
   ],
   "source": [
    "df.head()"
   ]
  },
  {
   "cell_type": "code",
   "execution_count": null,
   "id": "61af7599-e869-4950-840a-fa4749277f47",
   "metadata": {},
   "outputs": [],
   "source": []
  },
  {
   "cell_type": "markdown",
   "id": "1758f383-a0b7-420e-97ff-39a45a6d356a",
   "metadata": {},
   "source": [
    "### visualize"
   ]
  },
  {
   "cell_type": "code",
   "execution_count": 16,
   "id": "207489a1-41c9-4f9d-9e85-f5f39e9d07f1",
   "metadata": {},
   "outputs": [
    {
     "data": {
      "text/html": [
       "<div>\n",
       "<style scoped>\n",
       "    .dataframe tbody tr th:only-of-type {\n",
       "        vertical-align: middle;\n",
       "    }\n",
       "\n",
       "    .dataframe tbody tr th {\n",
       "        vertical-align: top;\n",
       "    }\n",
       "\n",
       "    .dataframe thead th {\n",
       "        text-align: right;\n",
       "    }\n",
       "</style>\n",
       "<table border=\"1\" class=\"dataframe\">\n",
       "  <thead>\n",
       "    <tr style=\"text-align: right;\">\n",
       "      <th></th>\n",
       "      <th>bedrooms</th>\n",
       "      <th>bathrooms</th>\n",
       "      <th>sqft</th>\n",
       "      <th>tax_value</th>\n",
       "      <th>year_built</th>\n",
       "      <th>tax_amount</th>\n",
       "      <th>county</th>\n",
       "    </tr>\n",
       "  </thead>\n",
       "  <tbody>\n",
       "    <tr>\n",
       "      <th>4</th>\n",
       "      <td>4</td>\n",
       "      <td>2.0</td>\n",
       "      <td>3633</td>\n",
       "      <td>296425</td>\n",
       "      <td>2005</td>\n",
       "      <td>6941.39</td>\n",
       "      <td>LA</td>\n",
       "    </tr>\n",
       "    <tr>\n",
       "      <th>6</th>\n",
       "      <td>3</td>\n",
       "      <td>4.0</td>\n",
       "      <td>1620</td>\n",
       "      <td>847770</td>\n",
       "      <td>2011</td>\n",
       "      <td>10244.94</td>\n",
       "      <td>LA</td>\n",
       "    </tr>\n",
       "    <tr>\n",
       "      <th>7</th>\n",
       "      <td>3</td>\n",
       "      <td>2.0</td>\n",
       "      <td>2077</td>\n",
       "      <td>646760</td>\n",
       "      <td>1926</td>\n",
       "      <td>7924.68</td>\n",
       "      <td>LA</td>\n",
       "    </tr>\n",
       "    <tr>\n",
       "      <th>11</th>\n",
       "      <td>0</td>\n",
       "      <td>0.0</td>\n",
       "      <td>1200</td>\n",
       "      <td>5328</td>\n",
       "      <td>1972</td>\n",
       "      <td>91.60</td>\n",
       "      <td>LA</td>\n",
       "    </tr>\n",
       "    <tr>\n",
       "      <th>14</th>\n",
       "      <td>0</td>\n",
       "      <td>0.0</td>\n",
       "      <td>171</td>\n",
       "      <td>6920</td>\n",
       "      <td>1973</td>\n",
       "      <td>255.17</td>\n",
       "      <td>LA</td>\n",
       "    </tr>\n",
       "  </tbody>\n",
       "</table>\n",
       "</div>"
      ],
      "text/plain": [
       "    bedrooms  bathrooms  sqft  tax_value  year_built  tax_amount county\n",
       "4          4        2.0  3633     296425        2005     6941.39     LA\n",
       "6          3        4.0  1620     847770        2011    10244.94     LA\n",
       "7          3        2.0  2077     646760        1926     7924.68     LA\n",
       "11         0        0.0  1200       5328        1972       91.60     LA\n",
       "14         0        0.0   171       6920        1973      255.17     LA"
      ]
     },
     "execution_count": 16,
     "metadata": {},
     "output_type": "execute_result"
    }
   ],
   "source": [
    "df.head()"
   ]
  },
  {
   "cell_type": "code",
   "execution_count": 17,
   "id": "d0ccc6bd-3d0e-4a0d-b97c-34d2dbc4f95b",
   "metadata": {},
   "outputs": [
    {
     "data": {
      "image/png": "[encoded data removed]",
      "text/plain": [
       "<Figure size 1600x1000 with 7 Axes>"
      ]
     },
     "metadata": {},
     "output_type": "display_data"
    }
   ],
   "source": [
    "plt.figure(figsize=(16,10))\n",
    "\n",
    "for i, col in enumerate(df.columns):\n",
    "    \n",
    "    plot_number = i + 1\n",
    "    plt.subplot(2,4, plot_number)\n",
    "    plt.title(col)\n",
    "    plt.hist(df[col])\n",
    "plt.show()"
   ]
  },
  {
   "cell_type": "code",
   "execution_count": 18,
   "id": "651ea7f7-3a50-4607-bac8-ba270b7a7401",
   "metadata": {},
   "outputs": [
    {
     "name": "stdout",
     "output_type": "stream",
     "text": [
      "bedrooms\n"
     ]
    },
    {
     "data": {
      "image/png": "[encoded data removed]",
      "text/plain": [
       "<Figure size 640x480 with 1 Axes>"
      ]
     },
     "metadata": {},
     "output_type": "display_data"
    },
    {
     "name": "stdout",
     "output_type": "stream",
     "text": [
      "0       4397\n",
      "1      22895\n",
      "2     334221\n",
      "3     962944\n",
      "4     633608\n",
      "5     150671\n",
      "6      25117\n",
      "7       4792\n",
      "8       1103\n",
      "9        290\n",
      "10       118\n",
      "11        34\n",
      "12        12\n",
      "13        15\n",
      "14         7\n",
      "15         5\n",
      "16         2\n",
      "18         3\n",
      "25         1\n",
      "Name: bedrooms, dtype: int64\n",
      "\n",
      "bathrooms\n"
     ]
    },
    {
     "data": {
      "image/png": "[encoded data removed]",
      "text/plain": [
       "<Figure size 640x480 with 1 Axes>"
      ]
     },
     "metadata": {},
     "output_type": "display_data"
    },
    {
     "name": "stdout",
     "output_type": "stream",
     "text": [
      "0.00       4274\n",
      "0.50         16\n",
      "1.00     412582\n",
      "1.50      31157\n",
      "1.75          3\n",
      "2.00     942463\n",
      "2.50     142827\n",
      "3.00     422398\n",
      "3.50      28464\n",
      "4.00      82039\n",
      "4.50      19474\n",
      "5.00      28306\n",
      "5.50       6201\n",
      "6.00      10717\n",
      "6.50       1330\n",
      "7.00       4381\n",
      "7.50        382\n",
      "8.00       1681\n",
      "8.50        108\n",
      "9.00        707\n",
      "9.50         50\n",
      "10.00       322\n",
      "10.50        14\n",
      "11.00       145\n",
      "11.50         3\n",
      "12.00        73\n",
      "12.50         3\n",
      "13.00        39\n",
      "14.00        25\n",
      "14.50         1\n",
      "15.00        17\n",
      "16.00        12\n",
      "17.00         4\n",
      "18.00         8\n",
      "19.00         1\n",
      "19.50         1\n",
      "20.00         6\n",
      "32.00         1\n",
      "Name: bathrooms, dtype: int64\n",
      "\n",
      "sqft\n"
     ]
    },
    {
     "data": {
      "image/png": "[encoded data removed]",
      "text/plain": [
       "<Figure size 640x480 with 1 Axes>"
      ]
     },
     "metadata": {},
     "output_type": "display_data"
    },
    {
     "name": "stdout",
     "output_type": "stream",
     "text": [
      "1         6\n",
      "2         2\n",
      "3         7\n",
      "7         1\n",
      "10        2\n",
      "         ..\n",
      "52503     1\n",
      "59220     1\n",
      "63692     1\n",
      "531118    1\n",
      "952576    1\n",
      "Name: sqft, Length: 10557, dtype: int64\n",
      "\n",
      "tax_value\n"
     ]
    },
    {
     "data": {
      "image/png": "[encoded data removed]",
      "text/plain": [
       "<Figure size 640x480 with 1 Axes>"
      ]
     },
     "metadata": {},
     "output_type": "display_data"
    },
    {
     "name": "stdout",
     "output_type": "stream",
     "text": [
      "22          10\n",
      "23           6\n",
      "31           1\n",
      "46           1\n",
      "101          1\n",
      "            ..\n",
      "70416358     1\n",
      "71067500     1\n",
      "83196095     1\n",
      "88020448     1\n",
      "90188462     1\n",
      "Name: tax_value, Length: 588178, dtype: int64\n",
      "\n",
      "year_built\n"
     ]
    },
    {
     "data": {
      "image/png": "[encoded data removed]",
      "text/plain": [
       "<Figure size 640x480 with 1 Axes>"
      ]
     },
     "metadata": {},
     "output_type": "display_data"
    },
    {
     "name": "stdout",
     "output_type": "stream",
     "text": [
      "1801       3\n",
      "1807       1\n",
      "1812       2\n",
      "1823       1\n",
      "1833       1\n",
      "        ... \n",
      "2012    3431\n",
      "2013    4768\n",
      "2014    4706\n",
      "2015    3551\n",
      "2016      97\n",
      "Name: year_built, Length: 153, dtype: int64\n",
      "\n",
      "tax_amount\n"
     ]
    },
    {
     "data": {
      "image/png": "[encoded data removed]",
      "text/plain": [
       "<Figure size 640x480 with 1 Axes>"
      ]
     },
     "metadata": {},
     "output_type": "display_data"
    },
    {
     "name": "stdout",
     "output_type": "stream",
     "text": [
      "6.34          1\n",
      "13.36         4\n",
      "13.44         1\n",
      "13.47         4\n",
      "13.48         1\n",
      "             ..\n",
      "824166.91     1\n",
      "841059.04     1\n",
      "994030.96     1\n",
      "1052070.50    1\n",
      "1078101.87    1\n",
      "Name: tax_amount, Length: 915868, dtype: int64\n",
      "\n"
     ]
    }
   ],
   "source": [
    "for col in df.columns[:-1]:\n",
    "    print(col)\n",
    "    sns.boxplot(data=df, x=col)\n",
    "    plt.show()\n",
    "    \n",
    "    print(df[col].value_counts().sort_index())\n",
    "    print()"
   ]
  },
  {
   "cell_type": "code",
   "execution_count": null,
   "id": "f432f6d8-e2d8-43f5-b1b2-0b00d1c48ffd",
   "metadata": {},
   "outputs": [],
   "source": []
  },
  {
   "cell_type": "markdown",
   "id": "e16ccbc4-7391-49db-94d3-2f208985d065",
   "metadata": {},
   "source": [
    "### outliers"
   ]
  },
  {
   "cell_type": "code",
   "execution_count": 19,
   "id": "786611bc-505c-4e6d-b697-d97e12bf35cd",
   "metadata": {},
   "outputs": [
    {
     "data": {
      "text/plain": [
       "1         6\n",
       "2         2\n",
       "3         7\n",
       "7         1\n",
       "10        2\n",
       "         ..\n",
       "52503     1\n",
       "59220     1\n",
       "63692     1\n",
       "531118    1\n",
       "952576    1\n",
       "Name: sqft, Length: 10557, dtype: int64"
      ]
     },
     "execution_count": 19,
     "metadata": {},
     "output_type": "execute_result"
    }
   ],
   "source": [
    "df.sqft.value_counts().sort_index()"
   ]
  },
  {
   "cell_type": "code",
   "execution_count": 20,
   "id": "aaab749d-3f9e-4b8d-be01-f3d1e6a80aab",
   "metadata": {},
   "outputs": [
    {
     "data": {
      "text/plain": [
       "1863.1939702883094"
      ]
     },
     "execution_count": 20,
     "metadata": {},
     "output_type": "execute_result"
    }
   ],
   "source": [
    "df.sqft.mean()"
   ]
  },
  {
   "cell_type": "code",
   "execution_count": 21,
   "id": "702fab72-a284-4206-af71-ace4daf0c70c",
   "metadata": {},
   "outputs": [],
   "source": [
    "df = df[df.sqft < 25_000]"
   ]
  },
  {
   "cell_type": "code",
   "execution_count": 22,
   "id": "b010393d-8b03-4342-99f5-3459afed26bf",
   "metadata": {},
   "outputs": [
    {
     "data": {
      "text/plain": [
       "(2140189, 7)"
      ]
     },
     "execution_count": 22,
     "metadata": {},
     "output_type": "execute_result"
    }
   ],
   "source": [
    "df.shape"
   ]
  },
  {
   "cell_type": "code",
   "execution_count": 23,
   "id": "e5f4df6c-195f-4c86-91a4-146df384b0f3",
   "metadata": {},
   "outputs": [
    {
     "data": {
      "text/plain": [
       "1203000.0"
      ]
     },
     "execution_count": 23,
     "metadata": {},
     "output_type": "execute_result"
    }
   ],
   "source": [
    "df.tax_value.quantile(.95)"
   ]
  },
  {
   "cell_type": "code",
   "execution_count": 24,
   "id": "e6793cff-3f74-45cf-a03a-ac6d6c3eb34c",
   "metadata": {},
   "outputs": [],
   "source": [
    "df = df [df.tax_value < df.tax_value.quantile(.95)]"
   ]
  },
  {
   "cell_type": "code",
   "execution_count": 25,
   "id": "d4332e52-7839-433d-9b18-467f4b6cc54a",
   "metadata": {},
   "outputs": [
    {
     "data": {
      "text/plain": [
       "(2033172, 7)"
      ]
     },
     "execution_count": 25,
     "metadata": {},
     "output_type": "execute_result"
    }
   ],
   "source": [
    "df.shape"
   ]
  },
  {
   "cell_type": "code",
   "execution_count": 26,
   "id": "f82604ea-d5f0-4db0-9160-60a1ef5583d8",
   "metadata": {},
   "outputs": [
    {
     "name": "stdout",
     "output_type": "stream",
     "text": [
      "bedrooms\n"
     ]
    },
    {
     "data": {
      "image/png": "[encoded data removed]",
      "text/plain": [
       "<Figure size 640x480 with 1 Axes>"
      ]
     },
     "metadata": {},
     "output_type": "display_data"
    },
    {
     "name": "stdout",
     "output_type": "stream",
     "text": [
      "0       4208\n",
      "1      22430\n",
      "2     328193\n",
      "3     938561\n",
      "4     595894\n",
      "5     122659\n",
      "6      17628\n",
      "7       2843\n",
      "8        536\n",
      "9        136\n",
      "10        52\n",
      "11        16\n",
      "12         4\n",
      "13         5\n",
      "14         2\n",
      "15         3\n",
      "16         2\n",
      "Name: bedrooms, dtype: int64\n",
      "\n",
      "bathrooms\n"
     ]
    },
    {
     "data": {
      "image/png": "[encoded data removed]",
      "text/plain": [
       "<Figure size 640x480 with 1 Axes>"
      ]
     },
     "metadata": {},
     "output_type": "display_data"
    },
    {
     "name": "stdout",
     "output_type": "stream",
     "text": [
      "0.00       4096\n",
      "0.50         13\n",
      "1.00     410357\n",
      "1.50      31011\n",
      "1.75          3\n",
      "2.00     931475\n",
      "2.50     140062\n",
      "3.00     400774\n",
      "3.50      22501\n",
      "4.00      62953\n",
      "4.50      10614\n",
      "5.00      14220\n",
      "5.50       1228\n",
      "6.00       2830\n",
      "6.50        150\n",
      "7.00        618\n",
      "7.50         66\n",
      "8.00        134\n",
      "8.50          1\n",
      "9.00         29\n",
      "9.50          3\n",
      "10.00        15\n",
      "11.00         5\n",
      "12.00         1\n",
      "13.00         1\n",
      "14.00         2\n",
      "15.00         1\n",
      "16.00         4\n",
      "18.00         2\n",
      "20.00         3\n",
      "Name: bathrooms, dtype: int64\n",
      "\n",
      "sqft\n"
     ]
    },
    {
     "data": {
      "image/png": "[encoded data removed]",
      "text/plain": [
       "<Figure size 640x480 with 1 Axes>"
      ]
     },
     "metadata": {},
     "output_type": "display_data"
    },
    {
     "name": "stdout",
     "output_type": "stream",
     "text": [
      "1        6\n",
      "2        1\n",
      "3        6\n",
      "10       2\n",
      "12       1\n",
      "        ..\n",
      "19460    1\n",
      "21734    1\n",
      "22702    1\n",
      "22800    1\n",
      "24220    1\n",
      "Name: sqft, Length: 6639, dtype: int64\n",
      "\n",
      "tax_value\n"
     ]
    },
    {
     "data": {
      "image/png": "[encoded data removed]",
      "text/plain": [
       "<Figure size 640x480 with 1 Axes>"
      ]
     },
     "metadata": {},
     "output_type": "display_data"
    },
    {
     "name": "stdout",
     "output_type": "stream",
     "text": [
      "22         10\n",
      "23          6\n",
      "31          1\n",
      "46          1\n",
      "101         1\n",
      "           ..\n",
      "1202886     1\n",
      "1202942     1\n",
      "1202959     1\n",
      "1202988     1\n",
      "1202999     1\n",
      "Name: tax_value, Length: 523005, dtype: int64\n",
      "\n",
      "year_built\n"
     ]
    },
    {
     "data": {
      "image/png": "[encoded data removed]",
      "text/plain": [
       "<Figure size 640x480 with 1 Axes>"
      ]
     },
     "metadata": {},
     "output_type": "display_data"
    },
    {
     "name": "stdout",
     "output_type": "stream",
     "text": [
      "1801       3\n",
      "1807       1\n",
      "1812       2\n",
      "1823       1\n",
      "1833       1\n",
      "        ... \n",
      "2012    2386\n",
      "2013    3210\n",
      "2014    3319\n",
      "2015    2638\n",
      "2016      74\n",
      "Name: year_built, Length: 152, dtype: int64\n",
      "\n",
      "tax_amount\n"
     ]
    },
    {
     "data": {
      "image/png": "[encoded data removed]",
      "text/plain": [
       "<Figure size 640x480 with 1 Axes>"
      ]
     },
     "metadata": {},
     "output_type": "display_data"
    },
    {
     "name": "stdout",
     "output_type": "stream",
     "text": [
      "6.34         1\n",
      "13.36        4\n",
      "13.44        1\n",
      "13.47        4\n",
      "13.48        1\n",
      "            ..\n",
      "57963.32     1\n",
      "58634.77     1\n",
      "60110.79     1\n",
      "67715.45     1\n",
      "100379.34    1\n",
      "Name: tax_amount, Length: 814643, dtype: int64\n",
      "\n"
     ]
    }
   ],
   "source": [
    "for col in df.columns[:-1]:\n",
    "    print(col)\n",
    "    sns.boxplot(data=df, x=col)\n",
    "    plt.show()\n",
    "    \n",
    "    print(df[col].value_counts().sort_index())\n",
    "    print()"
   ]
  },
  {
   "cell_type": "markdown",
   "id": "463e501a-65f1-48eb-9a34-aaca6b923c9e",
   "metadata": {},
   "source": [
    "### 3. Store all of the necessary functions to automate your process from acquiring the data to returning a cleaned dataframe with no missing values in your wrangle.py file. Name your final function wrangle_zillow."
   ]
  },
  {
   "cell_type": "code",
   "execution_count": null,
   "id": "cf5671ed-d158-4abc-aa92-09063c7cb3d9",
   "metadata": {},
   "outputs": [],
   "source": [
    "def new_zillow_data():\n",
    "    \"\"\"\n",
    "    This function will:\n",
    "    - create a connect_url to mySQL\n",
    "    - return a df of the given query from the zillow db\n",
    "    \"\"\"\n",
    "    url = get_db_url('zillow')\n",
    "    SQL_query = '''\n",
    "                select bedroomcnt as bedrooms, bathroomcnt as bathrooms, calculatedfinishedsquarefeet as sqft\n",
    "                    , taxvaluedollarcnt as tax_value, yearbuilt as year_built, taxamount as tax_amount, fips\n",
    "                from propertylandusetype\n",
    "                join properties_2017 on propertylandusetype.propertylandusetypeid = properties_2017.propertylandusetypeid\n",
    "                    and properties_2017.propertylandusetypeid = 261\n",
    "                '''\n",
    "    return pd.read_sql(SQL_query, url)"
   ]
  },
  {
   "cell_type": "code",
   "execution_count": null,
   "id": "dab67a50-699f-403d-bd4b-0b62db31e04c",
   "metadata": {},
   "outputs": [],
   "source": [
    "def get_zillow_data(filename=\"zillow.csv\"):\n",
    "    \"\"\"\n",
    "    This function will:\n",
    "    - Check local directory for csv file\n",
    "        - return if exists\n",
    "    - If csv doesn't exists:\n",
    "        - create a df of the SQL_query\n",
    "        - write df to csv\n",
    "    - Output zillow df\n",
    "    \"\"\"\n",
    "    if os.path.exists(filename):\n",
    "        df = pd.read_csv(filename, index_col=0) \n",
    "        print('Found CSV')\n",
    "        return df\n",
    "    \n",
    "    else:\n",
    "        df = new_zillow_data()\n",
    "        \n",
    "        #want to save to csv\n",
    "        df.to_csv(filename)\n",
    "        print('Creating CSV')\n",
    "        return df"
   ]
  },
  {
   "cell_type": "code",
   "execution_count": null,
   "id": "3c968da7-1e74-47e9-b529-3d156c931f91",
   "metadata": {},
   "outputs": [],
   "source": [
    "def wrangle_zillow(df):\n",
    "    df = df.rename(columns={'fips': 'county'})\n",
    "    \n",
    "    df = df.dropna()\n",
    "    \n",
    "    make_ints = ['bedrooms', 'sqft', 'tax_value', 'year_built']\n",
    "\n",
    "    for col in make_ints:\n",
    "        df[col] = df[col].astype(int)\n",
    "        \n",
    "    df.county = df.county.map({6037:'la', 6059:'orange', 6111:'ventura'})\n",
    "    \n",
    "    df = df[df.bedrooms.between(1,7)]\n",
    "    df = df[df.bathrooms.between(1,6)]\n",
    "    df = df[df.sqft <= df.sqft.mean() + (4 * df.sqft.std())]\n",
    "    df = df[df.sqft >= 500]\n",
    "    df = df [df.tax_value < df.tax_value.quantile(.95)]\n",
    "    \n",
    "    return df"
   ]
  },
  {
   "cell_type": "code",
   "execution_count": null,
   "id": "fc517c7c-1564-402f-b4b8-39520bbbd2b1",
   "metadata": {},
   "outputs": [],
   "source": [
    "rmv_zillow_outliers(df, a=1, b=7, c=1, d=6, e=4, f=0.95)"
   ]
  },
  {
   "cell_type": "code",
   "execution_count": 19,
   "id": "2365c81b-73ea-43e8-bd80-45de7982abc7",
   "metadata": {},
   "outputs": [],
   "source": [
    "fresh_df = wrangle.wrangle_zillow(df)"
   ]
  },
  {
   "cell_type": "code",
   "execution_count": null,
   "id": "75b87d0a-ab66-4b63-9570-4c7d559c4d3a",
   "metadata": {},
   "outputs": [],
   "source": []
  },
  {
   "cell_type": "markdown",
   "id": "1b01e3db-be8e-46db-9341-7d815908e263",
   "metadata": {},
   "source": [
    "### Bedrooms"
   ]
  },
  {
   "cell_type": "code",
   "execution_count": 102,
   "id": "257d8ec4-1b9e-4793-9812-506ce81e8030",
   "metadata": {},
   "outputs": [
    {
     "data": {
      "text/plain": [
       "0       4208\n",
       "1      22430\n",
       "2     328193\n",
       "3     938561\n",
       "4     595894\n",
       "5     122659\n",
       "6      17628\n",
       "7       2843\n",
       "8        536\n",
       "9        136\n",
       "10        52\n",
       "11        16\n",
       "12         4\n",
       "13         5\n",
       "14         2\n",
       "15         3\n",
       "16         2\n",
       "Name: bedrooms, dtype: int64"
      ]
     },
     "execution_count": 102,
     "metadata": {},
     "output_type": "execute_result"
    }
   ],
   "source": [
    "df.bedrooms.value_counts(dropna=False).sort_index()"
   ]
  },
  {
   "cell_type": "code",
   "execution_count": null,
   "id": "1547f980-0682-47bc-b874-ef577a76f85c",
   "metadata": {},
   "outputs": [],
   "source": []
  },
  {
   "cell_type": "code",
   "execution_count": 46,
   "id": "8b178931-77cb-4a25-ad54-35215854a35d",
   "metadata": {},
   "outputs": [
    {
     "data": {
      "text/plain": [
       "3.25770028310443"
      ]
     },
     "execution_count": 46,
     "metadata": {},
     "output_type": "execute_result"
    }
   ],
   "source": [
    "df.bedrooms.mean()"
   ]
  },
  {
   "cell_type": "code",
   "execution_count": 45,
   "id": "320b9c1f-7a2a-4c19-aac9-b7792bed44ba",
   "metadata": {},
   "outputs": [
    {
     "data": {
      "text/plain": [
       "0.8967887375772372"
      ]
     },
     "execution_count": 45,
     "metadata": {},
     "output_type": "execute_result"
    }
   ],
   "source": [
    "df.bedrooms.std()"
   ]
  },
  {
   "cell_type": "code",
   "execution_count": 47,
   "id": "96d9ba6a-fe55-4e08-8575-b7cc1598a5a1",
   "metadata": {},
   "outputs": [
    {
     "data": {
      "text/plain": [
       "5.948066495836141"
      ]
     },
     "execution_count": 47,
     "metadata": {},
     "output_type": "execute_result"
    }
   ],
   "source": [
    "df.bedrooms.mean() + (3 * df.bedrooms.std())"
   ]
  },
  {
   "cell_type": "code",
   "execution_count": 48,
   "id": "1da23bbe-97a2-43ba-b3c1-3289952076c6",
   "metadata": {},
   "outputs": [
    {
     "data": {
      "text/plain": [
       "0.5673340703727185"
      ]
     },
     "execution_count": 48,
     "metadata": {},
     "output_type": "execute_result"
    }
   ],
   "source": [
    "df.bedrooms.mean() - (3 * df.bedrooms.std())"
   ]
  },
  {
   "cell_type": "markdown",
   "id": "1249f75e-1c36-4f67-91d8-db70d86d4b9f",
   "metadata": {},
   "source": [
    "- Will use bedrooms between 1 and 7"
   ]
  },
  {
   "cell_type": "code",
   "execution_count": 169,
   "id": "5f9a073e-038b-4b79-bee0-6780a83b3d9e",
   "metadata": {},
   "outputs": [
    {
     "data": {
      "text/html": [
       "<div>\n",
       "<style scoped>\n",
       "    .dataframe tbody tr th:only-of-type {\n",
       "        vertical-align: middle;\n",
       "    }\n",
       "\n",
       "    .dataframe tbody tr th {\n",
       "        vertical-align: top;\n",
       "    }\n",
       "\n",
       "    .dataframe thead th {\n",
       "        text-align: right;\n",
       "    }\n",
       "</style>\n",
       "<table border=\"1\" class=\"dataframe\">\n",
       "  <thead>\n",
       "    <tr style=\"text-align: right;\">\n",
       "      <th></th>\n",
       "      <th>bedrooms</th>\n",
       "      <th>bathrooms</th>\n",
       "      <th>sqft</th>\n",
       "      <th>tax_value</th>\n",
       "      <th>year_built</th>\n",
       "      <th>tax_amount</th>\n",
       "      <th>county</th>\n",
       "    </tr>\n",
       "  </thead>\n",
       "  <tbody>\n",
       "    <tr>\n",
       "      <th>4</th>\n",
       "      <td>4</td>\n",
       "      <td>2.0</td>\n",
       "      <td>3633</td>\n",
       "      <td>296425</td>\n",
       "      <td>2005</td>\n",
       "      <td>6941.39</td>\n",
       "      <td>LA</td>\n",
       "    </tr>\n",
       "    <tr>\n",
       "      <th>6</th>\n",
       "      <td>3</td>\n",
       "      <td>4.0</td>\n",
       "      <td>1620</td>\n",
       "      <td>847770</td>\n",
       "      <td>2011</td>\n",
       "      <td>10244.94</td>\n",
       "      <td>LA</td>\n",
       "    </tr>\n",
       "    <tr>\n",
       "      <th>7</th>\n",
       "      <td>3</td>\n",
       "      <td>2.0</td>\n",
       "      <td>2077</td>\n",
       "      <td>646760</td>\n",
       "      <td>1926</td>\n",
       "      <td>7924.68</td>\n",
       "      <td>LA</td>\n",
       "    </tr>\n",
       "    <tr>\n",
       "      <th>18</th>\n",
       "      <td>3</td>\n",
       "      <td>1.0</td>\n",
       "      <td>1244</td>\n",
       "      <td>169471</td>\n",
       "      <td>1950</td>\n",
       "      <td>2532.88</td>\n",
       "      <td>LA</td>\n",
       "    </tr>\n",
       "    <tr>\n",
       "      <th>19</th>\n",
       "      <td>3</td>\n",
       "      <td>2.0</td>\n",
       "      <td>1300</td>\n",
       "      <td>233266</td>\n",
       "      <td>1950</td>\n",
       "      <td>3110.99</td>\n",
       "      <td>LA</td>\n",
       "    </tr>\n",
       "    <tr>\n",
       "      <th>...</th>\n",
       "      <td>...</td>\n",
       "      <td>...</td>\n",
       "      <td>...</td>\n",
       "      <td>...</td>\n",
       "      <td>...</td>\n",
       "      <td>...</td>\n",
       "      <td>...</td>\n",
       "    </tr>\n",
       "    <tr>\n",
       "      <th>2152856</th>\n",
       "      <td>4</td>\n",
       "      <td>4.0</td>\n",
       "      <td>4375</td>\n",
       "      <td>422400</td>\n",
       "      <td>2015</td>\n",
       "      <td>13877.56</td>\n",
       "      <td>LA</td>\n",
       "    </tr>\n",
       "    <tr>\n",
       "      <th>2152858</th>\n",
       "      <td>4</td>\n",
       "      <td>3.0</td>\n",
       "      <td>2262</td>\n",
       "      <td>960756</td>\n",
       "      <td>2015</td>\n",
       "      <td>13494.52</td>\n",
       "      <td>orange</td>\n",
       "    </tr>\n",
       "    <tr>\n",
       "      <th>2152859</th>\n",
       "      <td>4</td>\n",
       "      <td>4.5</td>\n",
       "      <td>3127</td>\n",
       "      <td>536061</td>\n",
       "      <td>2014</td>\n",
       "      <td>6244.16</td>\n",
       "      <td>orange</td>\n",
       "    </tr>\n",
       "    <tr>\n",
       "      <th>2152861</th>\n",
       "      <td>3</td>\n",
       "      <td>2.5</td>\n",
       "      <td>1974</td>\n",
       "      <td>424353</td>\n",
       "      <td>2015</td>\n",
       "      <td>5302.70</td>\n",
       "      <td>orange</td>\n",
       "    </tr>\n",
       "    <tr>\n",
       "      <th>2152862</th>\n",
       "      <td>4</td>\n",
       "      <td>4.0</td>\n",
       "      <td>2110</td>\n",
       "      <td>554009</td>\n",
       "      <td>2014</td>\n",
       "      <td>6761.20</td>\n",
       "      <td>LA</td>\n",
       "    </tr>\n",
       "  </tbody>\n",
       "</table>\n",
       "<p>2028208 rows × 7 columns</p>\n",
       "</div>"
      ],
      "text/plain": [
       "         bedrooms  bathrooms  sqft  tax_value  year_built  tax_amount  county\n",
       "4               4        2.0  3633     296425        2005     6941.39      LA\n",
       "6               3        4.0  1620     847770        2011    10244.94      LA\n",
       "7               3        2.0  2077     646760        1926     7924.68      LA\n",
       "18              3        1.0  1244     169471        1950     2532.88      LA\n",
       "19              3        2.0  1300     233266        1950     3110.99      LA\n",
       "...           ...        ...   ...        ...         ...         ...     ...\n",
       "2152856         4        4.0  4375     422400        2015    13877.56      LA\n",
       "2152858         4        3.0  2262     960756        2015    13494.52  orange\n",
       "2152859         4        4.5  3127     536061        2014     6244.16  orange\n",
       "2152861         3        2.5  1974     424353        2015     5302.70  orange\n",
       "2152862         4        4.0  2110     554009        2014     6761.20      LA\n",
       "\n",
       "[2028208 rows x 7 columns]"
      ]
     },
     "execution_count": 169,
     "metadata": {},
     "output_type": "execute_result"
    }
   ],
   "source": [
    "df[df.bedrooms.between(1,7)]"
   ]
  },
  {
   "cell_type": "code",
   "execution_count": null,
   "id": "9fd731fd-2843-4daf-b749-e605b3a529db",
   "metadata": {},
   "outputs": [],
   "source": []
  },
  {
   "cell_type": "code",
   "execution_count": 95,
   "id": "97aee46c-7aba-4793-b5eb-c25bc891be82",
   "metadata": {},
   "outputs": [
    {
     "data": {
      "text/html": [
       "<div>\n",
       "<style scoped>\n",
       "    .dataframe tbody tr th:only-of-type {\n",
       "        vertical-align: middle;\n",
       "    }\n",
       "\n",
       "    .dataframe tbody tr th {\n",
       "        vertical-align: top;\n",
       "    }\n",
       "\n",
       "    .dataframe thead th {\n",
       "        text-align: right;\n",
       "    }\n",
       "</style>\n",
       "<table border=\"1\" class=\"dataframe\">\n",
       "  <thead>\n",
       "    <tr style=\"text-align: right;\">\n",
       "      <th></th>\n",
       "      <th>bedrooms</th>\n",
       "      <th>bathrooms</th>\n",
       "      <th>sqft</th>\n",
       "      <th>tax_value</th>\n",
       "      <th>year_built</th>\n",
       "      <th>tax_amount</th>\n",
       "      <th>county</th>\n",
       "    </tr>\n",
       "  </thead>\n",
       "  <tbody>\n",
       "    <tr>\n",
       "      <th>4</th>\n",
       "      <td>4</td>\n",
       "      <td>2.0</td>\n",
       "      <td>3633</td>\n",
       "      <td>296425</td>\n",
       "      <td>2005</td>\n",
       "      <td>6941.39</td>\n",
       "      <td>LA</td>\n",
       "    </tr>\n",
       "    <tr>\n",
       "      <th>6</th>\n",
       "      <td>3</td>\n",
       "      <td>4.0</td>\n",
       "      <td>1620</td>\n",
       "      <td>847770</td>\n",
       "      <td>2011</td>\n",
       "      <td>10244.94</td>\n",
       "      <td>LA</td>\n",
       "    </tr>\n",
       "    <tr>\n",
       "      <th>7</th>\n",
       "      <td>3</td>\n",
       "      <td>2.0</td>\n",
       "      <td>2077</td>\n",
       "      <td>646760</td>\n",
       "      <td>1926</td>\n",
       "      <td>7924.68</td>\n",
       "      <td>LA</td>\n",
       "    </tr>\n",
       "    <tr>\n",
       "      <th>18</th>\n",
       "      <td>3</td>\n",
       "      <td>1.0</td>\n",
       "      <td>1244</td>\n",
       "      <td>169471</td>\n",
       "      <td>1950</td>\n",
       "      <td>2532.88</td>\n",
       "      <td>LA</td>\n",
       "    </tr>\n",
       "    <tr>\n",
       "      <th>19</th>\n",
       "      <td>3</td>\n",
       "      <td>2.0</td>\n",
       "      <td>1300</td>\n",
       "      <td>233266</td>\n",
       "      <td>1950</td>\n",
       "      <td>3110.99</td>\n",
       "      <td>LA</td>\n",
       "    </tr>\n",
       "    <tr>\n",
       "      <th>...</th>\n",
       "      <td>...</td>\n",
       "      <td>...</td>\n",
       "      <td>...</td>\n",
       "      <td>...</td>\n",
       "      <td>...</td>\n",
       "      <td>...</td>\n",
       "      <td>...</td>\n",
       "    </tr>\n",
       "    <tr>\n",
       "      <th>2152856</th>\n",
       "      <td>4</td>\n",
       "      <td>4.0</td>\n",
       "      <td>4375</td>\n",
       "      <td>422400</td>\n",
       "      <td>2015</td>\n",
       "      <td>13877.56</td>\n",
       "      <td>LA</td>\n",
       "    </tr>\n",
       "    <tr>\n",
       "      <th>2152858</th>\n",
       "      <td>4</td>\n",
       "      <td>3.0</td>\n",
       "      <td>2262</td>\n",
       "      <td>960756</td>\n",
       "      <td>2015</td>\n",
       "      <td>13494.52</td>\n",
       "      <td>orange</td>\n",
       "    </tr>\n",
       "    <tr>\n",
       "      <th>2152859</th>\n",
       "      <td>4</td>\n",
       "      <td>4.5</td>\n",
       "      <td>3127</td>\n",
       "      <td>536061</td>\n",
       "      <td>2014</td>\n",
       "      <td>6244.16</td>\n",
       "      <td>orange</td>\n",
       "    </tr>\n",
       "    <tr>\n",
       "      <th>2152861</th>\n",
       "      <td>3</td>\n",
       "      <td>2.5</td>\n",
       "      <td>1974</td>\n",
       "      <td>424353</td>\n",
       "      <td>2015</td>\n",
       "      <td>5302.70</td>\n",
       "      <td>orange</td>\n",
       "    </tr>\n",
       "    <tr>\n",
       "      <th>2152862</th>\n",
       "      <td>4</td>\n",
       "      <td>4.0</td>\n",
       "      <td>2110</td>\n",
       "      <td>554009</td>\n",
       "      <td>2014</td>\n",
       "      <td>6761.20</td>\n",
       "      <td>LA</td>\n",
       "    </tr>\n",
       "  </tbody>\n",
       "</table>\n",
       "<p>2028932 rows × 7 columns</p>\n",
       "</div>"
      ],
      "text/plain": [
       "         bedrooms  bathrooms  sqft  tax_value  year_built  tax_amount  county\n",
       "4               4        2.0  3633     296425        2005     6941.39      LA\n",
       "6               3        4.0  1620     847770        2011    10244.94      LA\n",
       "7               3        2.0  2077     646760        1926     7924.68      LA\n",
       "18              3        1.0  1244     169471        1950     2532.88      LA\n",
       "19              3        2.0  1300     233266        1950     3110.99      LA\n",
       "...           ...        ...   ...        ...         ...         ...     ...\n",
       "2152856         4        4.0  4375     422400        2015    13877.56      LA\n",
       "2152858         4        3.0  2262     960756        2015    13494.52  orange\n",
       "2152859         4        4.5  3127     536061        2014     6244.16  orange\n",
       "2152861         3        2.5  1974     424353        2015     5302.70  orange\n",
       "2152862         4        4.0  2110     554009        2014     6761.20      LA\n",
       "\n",
       "[2028932 rows x 7 columns]"
      ]
     },
     "execution_count": 95,
     "metadata": {},
     "output_type": "execute_result"
    }
   ],
   "source": [
    "df[df.bedrooms.between(1,10)]"
   ]
  },
  {
   "cell_type": "markdown",
   "id": "b11d55f2-a81a-46af-9ce0-cbc01cbcca86",
   "metadata": {},
   "source": [
    "**Bathrooms**"
   ]
  },
  {
   "cell_type": "code",
   "execution_count": 173,
   "id": "a7bf4e1e-5e6c-4005-933d-0f3e3b2a74e7",
   "metadata": {},
   "outputs": [
    {
     "data": {
      "text/plain": [
       "0.00       4096\n",
       "0.50         13\n",
       "1.00     410357\n",
       "1.50      31011\n",
       "1.75          3\n",
       "2.00     931475\n",
       "2.50     140062\n",
       "3.00     400774\n",
       "3.50      22501\n",
       "4.00      62953\n",
       "4.50      10614\n",
       "5.00      14220\n",
       "5.50       1228\n",
       "6.00       2830\n",
       "6.50        150\n",
       "7.00        618\n",
       "7.50         66\n",
       "8.00        134\n",
       "8.50          1\n",
       "9.00         29\n",
       "9.50          3\n",
       "10.00        15\n",
       "11.00         5\n",
       "12.00         1\n",
       "13.00         1\n",
       "14.00         2\n",
       "15.00         1\n",
       "16.00         4\n",
       "18.00         2\n",
       "20.00         3\n",
       "Name: bathrooms, dtype: int64"
      ]
     },
     "execution_count": 173,
     "metadata": {},
     "output_type": "execute_result"
    }
   ],
   "source": [
    "df.bathrooms.value_counts().sort_index()"
   ]
  },
  {
   "cell_type": "code",
   "execution_count": 172,
   "id": "55045631-7fbd-462b-b7e9-b3ed81f78c50",
   "metadata": {},
   "outputs": [
    {
     "data": {
      "text/html": [
       "<div>\n",
       "<style scoped>\n",
       "    .dataframe tbody tr th:only-of-type {\n",
       "        vertical-align: middle;\n",
       "    }\n",
       "\n",
       "    .dataframe tbody tr th {\n",
       "        vertical-align: top;\n",
       "    }\n",
       "\n",
       "    .dataframe thead th {\n",
       "        text-align: right;\n",
       "    }\n",
       "</style>\n",
       "<table border=\"1\" class=\"dataframe\">\n",
       "  <thead>\n",
       "    <tr style=\"text-align: right;\">\n",
       "      <th></th>\n",
       "      <th>bedrooms</th>\n",
       "      <th>bathrooms</th>\n",
       "      <th>sqft</th>\n",
       "      <th>tax_value</th>\n",
       "      <th>year_built</th>\n",
       "      <th>tax_amount</th>\n",
       "      <th>county</th>\n",
       "    </tr>\n",
       "  </thead>\n",
       "  <tbody>\n",
       "    <tr>\n",
       "      <th>4</th>\n",
       "      <td>4</td>\n",
       "      <td>2.0</td>\n",
       "      <td>3633</td>\n",
       "      <td>296425</td>\n",
       "      <td>2005</td>\n",
       "      <td>6941.39</td>\n",
       "      <td>LA</td>\n",
       "    </tr>\n",
       "    <tr>\n",
       "      <th>6</th>\n",
       "      <td>3</td>\n",
       "      <td>4.0</td>\n",
       "      <td>1620</td>\n",
       "      <td>847770</td>\n",
       "      <td>2011</td>\n",
       "      <td>10244.94</td>\n",
       "      <td>LA</td>\n",
       "    </tr>\n",
       "    <tr>\n",
       "      <th>7</th>\n",
       "      <td>3</td>\n",
       "      <td>2.0</td>\n",
       "      <td>2077</td>\n",
       "      <td>646760</td>\n",
       "      <td>1926</td>\n",
       "      <td>7924.68</td>\n",
       "      <td>LA</td>\n",
       "    </tr>\n",
       "    <tr>\n",
       "      <th>18</th>\n",
       "      <td>3</td>\n",
       "      <td>1.0</td>\n",
       "      <td>1244</td>\n",
       "      <td>169471</td>\n",
       "      <td>1950</td>\n",
       "      <td>2532.88</td>\n",
       "      <td>LA</td>\n",
       "    </tr>\n",
       "    <tr>\n",
       "      <th>19</th>\n",
       "      <td>3</td>\n",
       "      <td>2.0</td>\n",
       "      <td>1300</td>\n",
       "      <td>233266</td>\n",
       "      <td>1950</td>\n",
       "      <td>3110.99</td>\n",
       "      <td>LA</td>\n",
       "    </tr>\n",
       "    <tr>\n",
       "      <th>...</th>\n",
       "      <td>...</td>\n",
       "      <td>...</td>\n",
       "      <td>...</td>\n",
       "      <td>...</td>\n",
       "      <td>...</td>\n",
       "      <td>...</td>\n",
       "      <td>...</td>\n",
       "    </tr>\n",
       "    <tr>\n",
       "      <th>2152856</th>\n",
       "      <td>4</td>\n",
       "      <td>4.0</td>\n",
       "      <td>4375</td>\n",
       "      <td>422400</td>\n",
       "      <td>2015</td>\n",
       "      <td>13877.56</td>\n",
       "      <td>LA</td>\n",
       "    </tr>\n",
       "    <tr>\n",
       "      <th>2152858</th>\n",
       "      <td>4</td>\n",
       "      <td>3.0</td>\n",
       "      <td>2262</td>\n",
       "      <td>960756</td>\n",
       "      <td>2015</td>\n",
       "      <td>13494.52</td>\n",
       "      <td>orange</td>\n",
       "    </tr>\n",
       "    <tr>\n",
       "      <th>2152859</th>\n",
       "      <td>4</td>\n",
       "      <td>4.5</td>\n",
       "      <td>3127</td>\n",
       "      <td>536061</td>\n",
       "      <td>2014</td>\n",
       "      <td>6244.16</td>\n",
       "      <td>orange</td>\n",
       "    </tr>\n",
       "    <tr>\n",
       "      <th>2152861</th>\n",
       "      <td>3</td>\n",
       "      <td>2.5</td>\n",
       "      <td>1974</td>\n",
       "      <td>424353</td>\n",
       "      <td>2015</td>\n",
       "      <td>5302.70</td>\n",
       "      <td>orange</td>\n",
       "    </tr>\n",
       "    <tr>\n",
       "      <th>2152862</th>\n",
       "      <td>4</td>\n",
       "      <td>4.0</td>\n",
       "      <td>2110</td>\n",
       "      <td>554009</td>\n",
       "      <td>2014</td>\n",
       "      <td>6761.20</td>\n",
       "      <td>LA</td>\n",
       "    </tr>\n",
       "  </tbody>\n",
       "</table>\n",
       "<p>2028028 rows × 7 columns</p>\n",
       "</div>"
      ],
      "text/plain": [
       "         bedrooms  bathrooms  sqft  tax_value  year_built  tax_amount  county\n",
       "4               4        2.0  3633     296425        2005     6941.39      LA\n",
       "6               3        4.0  1620     847770        2011    10244.94      LA\n",
       "7               3        2.0  2077     646760        1926     7924.68      LA\n",
       "18              3        1.0  1244     169471        1950     2532.88      LA\n",
       "19              3        2.0  1300     233266        1950     3110.99      LA\n",
       "...           ...        ...   ...        ...         ...         ...     ...\n",
       "2152856         4        4.0  4375     422400        2015    13877.56      LA\n",
       "2152858         4        3.0  2262     960756        2015    13494.52  orange\n",
       "2152859         4        4.5  3127     536061        2014     6244.16  orange\n",
       "2152861         3        2.5  1974     424353        2015     5302.70  orange\n",
       "2152862         4        4.0  2110     554009        2014     6761.20      LA\n",
       "\n",
       "[2028028 rows x 7 columns]"
      ]
     },
     "execution_count": 172,
     "metadata": {},
     "output_type": "execute_result"
    }
   ],
   "source": [
    "df[df.bathrooms.between(1,6)]"
   ]
  },
  {
   "cell_type": "code",
   "execution_count": 96,
   "id": "3370de71-4261-43bb-8f0e-7328233ad59f",
   "metadata": {},
   "outputs": [
    {
     "data": {
      "text/html": [
       "<div>\n",
       "<style scoped>\n",
       "    .dataframe tbody tr th:only-of-type {\n",
       "        vertical-align: middle;\n",
       "    }\n",
       "\n",
       "    .dataframe tbody tr th {\n",
       "        vertical-align: top;\n",
       "    }\n",
       "\n",
       "    .dataframe thead th {\n",
       "        text-align: right;\n",
       "    }\n",
       "</style>\n",
       "<table border=\"1\" class=\"dataframe\">\n",
       "  <thead>\n",
       "    <tr style=\"text-align: right;\">\n",
       "      <th></th>\n",
       "      <th>bedrooms</th>\n",
       "      <th>bathrooms</th>\n",
       "      <th>sqft</th>\n",
       "      <th>tax_value</th>\n",
       "      <th>year_built</th>\n",
       "      <th>tax_amount</th>\n",
       "      <th>county</th>\n",
       "    </tr>\n",
       "  </thead>\n",
       "  <tbody>\n",
       "    <tr>\n",
       "      <th>79946</th>\n",
       "      <td>7</td>\n",
       "      <td>10.0</td>\n",
       "      <td>7248</td>\n",
       "      <td>971493</td>\n",
       "      <td>1927</td>\n",
       "      <td>11488.14</td>\n",
       "      <td>LA</td>\n",
       "    </tr>\n",
       "    <tr>\n",
       "      <th>122314</th>\n",
       "      <td>6</td>\n",
       "      <td>10.0</td>\n",
       "      <td>7405</td>\n",
       "      <td>522097</td>\n",
       "      <td>1969</td>\n",
       "      <td>8459.10</td>\n",
       "      <td>LA</td>\n",
       "    </tr>\n",
       "    <tr>\n",
       "      <th>240975</th>\n",
       "      <td>9</td>\n",
       "      <td>11.0</td>\n",
       "      <td>8112</td>\n",
       "      <td>710387</td>\n",
       "      <td>1929</td>\n",
       "      <td>9135.16</td>\n",
       "      <td>LA</td>\n",
       "    </tr>\n",
       "    <tr>\n",
       "      <th>250867</th>\n",
       "      <td>12</td>\n",
       "      <td>12.0</td>\n",
       "      <td>7636</td>\n",
       "      <td>1102738</td>\n",
       "      <td>1988</td>\n",
       "      <td>13420.04</td>\n",
       "      <td>LA</td>\n",
       "    </tr>\n",
       "    <tr>\n",
       "      <th>253517</th>\n",
       "      <td>5</td>\n",
       "      <td>18.0</td>\n",
       "      <td>56</td>\n",
       "      <td>223854</td>\n",
       "      <td>1960</td>\n",
       "      <td>3268.16</td>\n",
       "      <td>LA</td>\n",
       "    </tr>\n",
       "    <tr>\n",
       "      <th>302713</th>\n",
       "      <td>10</td>\n",
       "      <td>10.0</td>\n",
       "      <td>7472</td>\n",
       "      <td>463884</td>\n",
       "      <td>1939</td>\n",
       "      <td>6141.07</td>\n",
       "      <td>LA</td>\n",
       "    </tr>\n",
       "    <tr>\n",
       "      <th>387443</th>\n",
       "      <td>3</td>\n",
       "      <td>13.0</td>\n",
       "      <td>2472</td>\n",
       "      <td>477475</td>\n",
       "      <td>1937</td>\n",
       "      <td>8399.94</td>\n",
       "      <td>LA</td>\n",
       "    </tr>\n",
       "    <tr>\n",
       "      <th>433636</th>\n",
       "      <td>3</td>\n",
       "      <td>14.0</td>\n",
       "      <td>1028</td>\n",
       "      <td>817420</td>\n",
       "      <td>1939</td>\n",
       "      <td>9843.88</td>\n",
       "      <td>LA</td>\n",
       "    </tr>\n",
       "    <tr>\n",
       "      <th>701366</th>\n",
       "      <td>0</td>\n",
       "      <td>20.0</td>\n",
       "      <td>1650</td>\n",
       "      <td>152598</td>\n",
       "      <td>1947</td>\n",
       "      <td>1892.01</td>\n",
       "      <td>LA</td>\n",
       "    </tr>\n",
       "    <tr>\n",
       "      <th>717487</th>\n",
       "      <td>9</td>\n",
       "      <td>10.0</td>\n",
       "      <td>5131</td>\n",
       "      <td>1138500</td>\n",
       "      <td>1962</td>\n",
       "      <td>13787.64</td>\n",
       "      <td>LA</td>\n",
       "    </tr>\n",
       "    <tr>\n",
       "      <th>766936</th>\n",
       "      <td>11</td>\n",
       "      <td>11.0</td>\n",
       "      <td>10405</td>\n",
       "      <td>1009158</td>\n",
       "      <td>1982</td>\n",
       "      <td>12070.71</td>\n",
       "      <td>LA</td>\n",
       "    </tr>\n",
       "    <tr>\n",
       "      <th>788455</th>\n",
       "      <td>8</td>\n",
       "      <td>11.0</td>\n",
       "      <td>8826</td>\n",
       "      <td>1042900</td>\n",
       "      <td>2001</td>\n",
       "      <td>13511.53</td>\n",
       "      <td>LA</td>\n",
       "    </tr>\n",
       "    <tr>\n",
       "      <th>1004323</th>\n",
       "      <td>2</td>\n",
       "      <td>15.0</td>\n",
       "      <td>1587</td>\n",
       "      <td>214588</td>\n",
       "      <td>1944</td>\n",
       "      <td>3056.78</td>\n",
       "      <td>LA</td>\n",
       "    </tr>\n",
       "    <tr>\n",
       "      <th>1061932</th>\n",
       "      <td>10</td>\n",
       "      <td>10.0</td>\n",
       "      <td>6435</td>\n",
       "      <td>1080314</td>\n",
       "      <td>1979</td>\n",
       "      <td>13148.10</td>\n",
       "      <td>LA</td>\n",
       "    </tr>\n",
       "    <tr>\n",
       "      <th>1102409</th>\n",
       "      <td>8</td>\n",
       "      <td>10.0</td>\n",
       "      <td>6360</td>\n",
       "      <td>437113</td>\n",
       "      <td>1928</td>\n",
       "      <td>5933.25</td>\n",
       "      <td>LA</td>\n",
       "    </tr>\n",
       "    <tr>\n",
       "      <th>1114403</th>\n",
       "      <td>3</td>\n",
       "      <td>20.0</td>\n",
       "      <td>80</td>\n",
       "      <td>95692</td>\n",
       "      <td>2006</td>\n",
       "      <td>1250.16</td>\n",
       "      <td>LA</td>\n",
       "    </tr>\n",
       "    <tr>\n",
       "      <th>1151694</th>\n",
       "      <td>10</td>\n",
       "      <td>16.0</td>\n",
       "      <td>14500</td>\n",
       "      <td>685000</td>\n",
       "      <td>1912</td>\n",
       "      <td>12901.36</td>\n",
       "      <td>LA</td>\n",
       "    </tr>\n",
       "    <tr>\n",
       "      <th>1174755</th>\n",
       "      <td>3</td>\n",
       "      <td>20.0</td>\n",
       "      <td>66</td>\n",
       "      <td>237056</td>\n",
       "      <td>1960</td>\n",
       "      <td>2831.76</td>\n",
       "      <td>LA</td>\n",
       "    </tr>\n",
       "    <tr>\n",
       "      <th>1316950</th>\n",
       "      <td>2</td>\n",
       "      <td>16.0</td>\n",
       "      <td>12</td>\n",
       "      <td>379606</td>\n",
       "      <td>1926</td>\n",
       "      <td>5021.91</td>\n",
       "      <td>LA</td>\n",
       "    </tr>\n",
       "    <tr>\n",
       "      <th>1382319</th>\n",
       "      <td>7</td>\n",
       "      <td>10.0</td>\n",
       "      <td>7668</td>\n",
       "      <td>393465</td>\n",
       "      <td>1930</td>\n",
       "      <td>5686.58</td>\n",
       "      <td>LA</td>\n",
       "    </tr>\n",
       "    <tr>\n",
       "      <th>1393502</th>\n",
       "      <td>7</td>\n",
       "      <td>10.0</td>\n",
       "      <td>5822</td>\n",
       "      <td>1164764</td>\n",
       "      <td>1985</td>\n",
       "      <td>13462.82</td>\n",
       "      <td>LA</td>\n",
       "    </tr>\n",
       "    <tr>\n",
       "      <th>1425009</th>\n",
       "      <td>10</td>\n",
       "      <td>10.0</td>\n",
       "      <td>15878</td>\n",
       "      <td>475407</td>\n",
       "      <td>1914</td>\n",
       "      <td>6785.34</td>\n",
       "      <td>LA</td>\n",
       "    </tr>\n",
       "    <tr>\n",
       "      <th>1633257</th>\n",
       "      <td>4</td>\n",
       "      <td>14.0</td>\n",
       "      <td>1433</td>\n",
       "      <td>67887</td>\n",
       "      <td>1956</td>\n",
       "      <td>1036.49</td>\n",
       "      <td>LA</td>\n",
       "    </tr>\n",
       "    <tr>\n",
       "      <th>1640645</th>\n",
       "      <td>10</td>\n",
       "      <td>11.0</td>\n",
       "      <td>3370</td>\n",
       "      <td>980482</td>\n",
       "      <td>1920</td>\n",
       "      <td>11979.24</td>\n",
       "      <td>LA</td>\n",
       "    </tr>\n",
       "    <tr>\n",
       "      <th>1643951</th>\n",
       "      <td>13</td>\n",
       "      <td>10.0</td>\n",
       "      <td>9368</td>\n",
       "      <td>995300</td>\n",
       "      <td>1903</td>\n",
       "      <td>11713.49</td>\n",
       "      <td>LA</td>\n",
       "    </tr>\n",
       "    <tr>\n",
       "      <th>1648713</th>\n",
       "      <td>2</td>\n",
       "      <td>16.0</td>\n",
       "      <td>10</td>\n",
       "      <td>461409</td>\n",
       "      <td>1947</td>\n",
       "      <td>5490.18</td>\n",
       "      <td>LA</td>\n",
       "    </tr>\n",
       "    <tr>\n",
       "      <th>1669958</th>\n",
       "      <td>9</td>\n",
       "      <td>10.0</td>\n",
       "      <td>6833</td>\n",
       "      <td>1133303</td>\n",
       "      <td>1940</td>\n",
       "      <td>14055.22</td>\n",
       "      <td>LA</td>\n",
       "    </tr>\n",
       "    <tr>\n",
       "      <th>1672142</th>\n",
       "      <td>4</td>\n",
       "      <td>10.0</td>\n",
       "      <td>4062</td>\n",
       "      <td>362436</td>\n",
       "      <td>1919</td>\n",
       "      <td>4557.09</td>\n",
       "      <td>LA</td>\n",
       "    </tr>\n",
       "    <tr>\n",
       "      <th>1736986</th>\n",
       "      <td>11</td>\n",
       "      <td>11.0</td>\n",
       "      <td>4740</td>\n",
       "      <td>470743</td>\n",
       "      <td>1989</td>\n",
       "      <td>3938.39</td>\n",
       "      <td>LA</td>\n",
       "    </tr>\n",
       "    <tr>\n",
       "      <th>1747969</th>\n",
       "      <td>2</td>\n",
       "      <td>10.0</td>\n",
       "      <td>1055</td>\n",
       "      <td>250301</td>\n",
       "      <td>1924</td>\n",
       "      <td>3206.77</td>\n",
       "      <td>LA</td>\n",
       "    </tr>\n",
       "    <tr>\n",
       "      <th>1811787</th>\n",
       "      <td>2</td>\n",
       "      <td>18.0</td>\n",
       "      <td>5689</td>\n",
       "      <td>953973</td>\n",
       "      <td>1923</td>\n",
       "      <td>11759.03</td>\n",
       "      <td>LA</td>\n",
       "    </tr>\n",
       "    <tr>\n",
       "      <th>1866663</th>\n",
       "      <td>16</td>\n",
       "      <td>16.0</td>\n",
       "      <td>7121</td>\n",
       "      <td>975000</td>\n",
       "      <td>1987</td>\n",
       "      <td>11218.15</td>\n",
       "      <td>LA</td>\n",
       "    </tr>\n",
       "    <tr>\n",
       "      <th>1971891</th>\n",
       "      <td>10</td>\n",
       "      <td>10.0</td>\n",
       "      <td>4294</td>\n",
       "      <td>812200</td>\n",
       "      <td>1950</td>\n",
       "      <td>8871.35</td>\n",
       "      <td>LA</td>\n",
       "    </tr>\n",
       "    <tr>\n",
       "      <th>1995594</th>\n",
       "      <td>8</td>\n",
       "      <td>10.0</td>\n",
       "      <td>5136</td>\n",
       "      <td>982334</td>\n",
       "      <td>1920</td>\n",
       "      <td>12132.70</td>\n",
       "      <td>LA</td>\n",
       "    </tr>\n",
       "  </tbody>\n",
       "</table>\n",
       "</div>"
      ],
      "text/plain": [
       "         bedrooms  bathrooms   sqft  tax_value  year_built  tax_amount county\n",
       "79946           7       10.0   7248     971493        1927    11488.14     LA\n",
       "122314          6       10.0   7405     522097        1969     8459.10     LA\n",
       "240975          9       11.0   8112     710387        1929     9135.16     LA\n",
       "250867         12       12.0   7636    1102738        1988    13420.04     LA\n",
       "253517          5       18.0     56     223854        1960     3268.16     LA\n",
       "302713         10       10.0   7472     463884        1939     6141.07     LA\n",
       "387443          3       13.0   2472     477475        1937     8399.94     LA\n",
       "433636          3       14.0   1028     817420        1939     9843.88     LA\n",
       "701366          0       20.0   1650     152598        1947     1892.01     LA\n",
       "717487          9       10.0   5131    1138500        1962    13787.64     LA\n",
       "766936         11       11.0  10405    1009158        1982    12070.71     LA\n",
       "788455          8       11.0   8826    1042900        2001    13511.53     LA\n",
       "1004323         2       15.0   1587     214588        1944     3056.78     LA\n",
       "1061932        10       10.0   6435    1080314        1979    13148.10     LA\n",
       "1102409         8       10.0   6360     437113        1928     5933.25     LA\n",
       "1114403         3       20.0     80      95692        2006     1250.16     LA\n",
       "1151694        10       16.0  14500     685000        1912    12901.36     LA\n",
       "1174755         3       20.0     66     237056        1960     2831.76     LA\n",
       "1316950         2       16.0     12     379606        1926     5021.91     LA\n",
       "1382319         7       10.0   7668     393465        1930     5686.58     LA\n",
       "1393502         7       10.0   5822    1164764        1985    13462.82     LA\n",
       "1425009        10       10.0  15878     475407        1914     6785.34     LA\n",
       "1633257         4       14.0   1433      67887        1956     1036.49     LA\n",
       "1640645        10       11.0   3370     980482        1920    11979.24     LA\n",
       "1643951        13       10.0   9368     995300        1903    11713.49     LA\n",
       "1648713         2       16.0     10     461409        1947     5490.18     LA\n",
       "1669958         9       10.0   6833    1133303        1940    14055.22     LA\n",
       "1672142         4       10.0   4062     362436        1919     4557.09     LA\n",
       "1736986        11       11.0   4740     470743        1989     3938.39     LA\n",
       "1747969         2       10.0   1055     250301        1924     3206.77     LA\n",
       "1811787         2       18.0   5689     953973        1923    11759.03     LA\n",
       "1866663        16       16.0   7121     975000        1987    11218.15     LA\n",
       "1971891        10       10.0   4294     812200        1950     8871.35     LA\n",
       "1995594         8       10.0   5136     982334        1920    12132.70     LA"
      ]
     },
     "execution_count": 96,
     "metadata": {},
     "output_type": "execute_result"
    }
   ],
   "source": [
    "df[df.bathrooms.between(10,20)]"
   ]
  },
  {
   "cell_type": "code",
   "execution_count": null,
   "id": "a163fd05-d6ee-4891-8848-d875587e6841",
   "metadata": {},
   "outputs": [],
   "source": []
  },
  {
   "cell_type": "code",
   "execution_count": 119,
   "id": "9dd63e36-3cd2-4179-a39b-18a9c8881fd7",
   "metadata": {},
   "outputs": [
    {
     "data": {
      "text/plain": [
       "1751.420816832024"
      ]
     },
     "execution_count": 119,
     "metadata": {},
     "output_type": "execute_result"
    }
   ],
   "source": [
    "df.sqft.mean()"
   ]
  },
  {
   "cell_type": "code",
   "execution_count": 120,
   "id": "ddfb4dee-3187-47bd-9da5-dfcc6b6eac09",
   "metadata": {},
   "outputs": [
    {
     "data": {
      "text/plain": [
       "725.8099250417995"
      ]
     },
     "execution_count": 120,
     "metadata": {},
     "output_type": "execute_result"
    }
   ],
   "source": [
    "df.sqft.std()"
   ]
  },
  {
   "cell_type": "code",
   "execution_count": 122,
   "id": "83d21627-d003-4dd9-bad7-5a4b76308274",
   "metadata": {},
   "outputs": [
    {
     "data": {
      "text/plain": [
       "299.800966748425"
      ]
     },
     "execution_count": 122,
     "metadata": {},
     "output_type": "execute_result"
    }
   ],
   "source": [
    "df.sqft.mean() - (2 * df.sqft.std())"
   ]
  },
  {
   "cell_type": "markdown",
   "id": "6e043136-812d-45fe-b900-f8d6a9900042",
   "metadata": {},
   "source": [
    "- Will use 500 sqft as my min.  \n",
    "    - On zillow.com, 500sqft is the min available filter"
   ]
  },
  {
   "cell_type": "code",
   "execution_count": 158,
   "id": "72797c47-9501-4b1a-b768-ac272c3d19c6",
   "metadata": {},
   "outputs": [
    {
     "data": {
      "text/html": [
       "<div>\n",
       "<style scoped>\n",
       "    .dataframe tbody tr th:only-of-type {\n",
       "        vertical-align: middle;\n",
       "    }\n",
       "\n",
       "    .dataframe tbody tr th {\n",
       "        vertical-align: top;\n",
       "    }\n",
       "\n",
       "    .dataframe thead th {\n",
       "        text-align: right;\n",
       "    }\n",
       "</style>\n",
       "<table border=\"1\" class=\"dataframe\">\n",
       "  <thead>\n",
       "    <tr style=\"text-align: right;\">\n",
       "      <th></th>\n",
       "      <th>bedrooms</th>\n",
       "      <th>bathrooms</th>\n",
       "      <th>sqft</th>\n",
       "      <th>tax_value</th>\n",
       "      <th>year_built</th>\n",
       "      <th>tax_amount</th>\n",
       "      <th>county</th>\n",
       "    </tr>\n",
       "  </thead>\n",
       "  <tbody>\n",
       "    <tr>\n",
       "      <th>4</th>\n",
       "      <td>4</td>\n",
       "      <td>2.0</td>\n",
       "      <td>3633</td>\n",
       "      <td>296425</td>\n",
       "      <td>2005</td>\n",
       "      <td>6941.39</td>\n",
       "      <td>LA</td>\n",
       "    </tr>\n",
       "    <tr>\n",
       "      <th>6</th>\n",
       "      <td>3</td>\n",
       "      <td>4.0</td>\n",
       "      <td>1620</td>\n",
       "      <td>847770</td>\n",
       "      <td>2011</td>\n",
       "      <td>10244.94</td>\n",
       "      <td>LA</td>\n",
       "    </tr>\n",
       "    <tr>\n",
       "      <th>7</th>\n",
       "      <td>3</td>\n",
       "      <td>2.0</td>\n",
       "      <td>2077</td>\n",
       "      <td>646760</td>\n",
       "      <td>1926</td>\n",
       "      <td>7924.68</td>\n",
       "      <td>LA</td>\n",
       "    </tr>\n",
       "    <tr>\n",
       "      <th>11</th>\n",
       "      <td>0</td>\n",
       "      <td>0.0</td>\n",
       "      <td>1200</td>\n",
       "      <td>5328</td>\n",
       "      <td>1972</td>\n",
       "      <td>91.60</td>\n",
       "      <td>LA</td>\n",
       "    </tr>\n",
       "    <tr>\n",
       "      <th>18</th>\n",
       "      <td>3</td>\n",
       "      <td>1.0</td>\n",
       "      <td>1244</td>\n",
       "      <td>169471</td>\n",
       "      <td>1950</td>\n",
       "      <td>2532.88</td>\n",
       "      <td>LA</td>\n",
       "    </tr>\n",
       "    <tr>\n",
       "      <th>...</th>\n",
       "      <td>...</td>\n",
       "      <td>...</td>\n",
       "      <td>...</td>\n",
       "      <td>...</td>\n",
       "      <td>...</td>\n",
       "      <td>...</td>\n",
       "      <td>...</td>\n",
       "    </tr>\n",
       "    <tr>\n",
       "      <th>2152856</th>\n",
       "      <td>4</td>\n",
       "      <td>4.0</td>\n",
       "      <td>4375</td>\n",
       "      <td>422400</td>\n",
       "      <td>2015</td>\n",
       "      <td>13877.56</td>\n",
       "      <td>LA</td>\n",
       "    </tr>\n",
       "    <tr>\n",
       "      <th>2152858</th>\n",
       "      <td>4</td>\n",
       "      <td>3.0</td>\n",
       "      <td>2262</td>\n",
       "      <td>960756</td>\n",
       "      <td>2015</td>\n",
       "      <td>13494.52</td>\n",
       "      <td>orange</td>\n",
       "    </tr>\n",
       "    <tr>\n",
       "      <th>2152859</th>\n",
       "      <td>4</td>\n",
       "      <td>4.5</td>\n",
       "      <td>3127</td>\n",
       "      <td>536061</td>\n",
       "      <td>2014</td>\n",
       "      <td>6244.16</td>\n",
       "      <td>orange</td>\n",
       "    </tr>\n",
       "    <tr>\n",
       "      <th>2152861</th>\n",
       "      <td>3</td>\n",
       "      <td>2.5</td>\n",
       "      <td>1974</td>\n",
       "      <td>424353</td>\n",
       "      <td>2015</td>\n",
       "      <td>5302.70</td>\n",
       "      <td>orange</td>\n",
       "    </tr>\n",
       "    <tr>\n",
       "      <th>2152862</th>\n",
       "      <td>4</td>\n",
       "      <td>4.0</td>\n",
       "      <td>2110</td>\n",
       "      <td>554009</td>\n",
       "      <td>2014</td>\n",
       "      <td>6761.20</td>\n",
       "      <td>LA</td>\n",
       "    </tr>\n",
       "  </tbody>\n",
       "</table>\n",
       "<p>2028396 rows × 7 columns</p>\n",
       "</div>"
      ],
      "text/plain": [
       "         bedrooms  bathrooms  sqft  tax_value  year_built  tax_amount  county\n",
       "4               4        2.0  3633     296425        2005     6941.39      LA\n",
       "6               3        4.0  1620     847770        2011    10244.94      LA\n",
       "7               3        2.0  2077     646760        1926     7924.68      LA\n",
       "11              0        0.0  1200       5328        1972       91.60      LA\n",
       "18              3        1.0  1244     169471        1950     2532.88      LA\n",
       "...           ...        ...   ...        ...         ...         ...     ...\n",
       "2152856         4        4.0  4375     422400        2015    13877.56      LA\n",
       "2152858         4        3.0  2262     960756        2015    13494.52  orange\n",
       "2152859         4        4.5  3127     536061        2014     6244.16  orange\n",
       "2152861         3        2.5  1974     424353        2015     5302.70  orange\n",
       "2152862         4        4.0  2110     554009        2014     6761.20      LA\n",
       "\n",
       "[2028396 rows x 7 columns]"
      ]
     },
     "execution_count": 158,
     "metadata": {},
     "output_type": "execute_result"
    }
   ],
   "source": [
    "df[df.sqft >= 500]"
   ]
  },
  {
   "cell_type": "code",
   "execution_count": 166,
   "id": "c803fdb9-c6e4-4680-bd57-549ad16344e4",
   "metadata": {},
   "outputs": [
    {
     "data": {
      "text/plain": [
       "4654.660516999222"
      ]
     },
     "execution_count": 166,
     "metadata": {},
     "output_type": "execute_result"
    }
   ],
   "source": [
    "df.sqft.mean() + (4 * df.sqft.std())"
   ]
  },
  {
   "cell_type": "markdown",
   "id": "e0a1f085-7901-4d85-bc0d-f18d650da429",
   "metadata": {},
   "source": [
    "- Will use 4 standard deviations above the mean.\n",
    "    - 3 standard deviations cuts out 25K+ rows"
   ]
  },
  {
   "cell_type": "code",
   "execution_count": 154,
   "id": "5bcc198d-4c29-4d88-8c49-37a1559d128d",
   "metadata": {},
   "outputs": [
    {
     "data": {
      "text/html": [
       "<div>\n",
       "<style scoped>\n",
       "    .dataframe tbody tr th:only-of-type {\n",
       "        vertical-align: middle;\n",
       "    }\n",
       "\n",
       "    .dataframe tbody tr th {\n",
       "        vertical-align: top;\n",
       "    }\n",
       "\n",
       "    .dataframe thead th {\n",
       "        text-align: right;\n",
       "    }\n",
       "</style>\n",
       "<table border=\"1\" class=\"dataframe\">\n",
       "  <thead>\n",
       "    <tr style=\"text-align: right;\">\n",
       "      <th></th>\n",
       "      <th>bedrooms</th>\n",
       "      <th>bathrooms</th>\n",
       "      <th>sqft</th>\n",
       "      <th>tax_value</th>\n",
       "      <th>year_built</th>\n",
       "      <th>tax_amount</th>\n",
       "      <th>county</th>\n",
       "    </tr>\n",
       "  </thead>\n",
       "  <tbody>\n",
       "    <tr>\n",
       "      <th>4</th>\n",
       "      <td>4</td>\n",
       "      <td>2.0</td>\n",
       "      <td>3633</td>\n",
       "      <td>296425</td>\n",
       "      <td>2005</td>\n",
       "      <td>6941.39</td>\n",
       "      <td>LA</td>\n",
       "    </tr>\n",
       "    <tr>\n",
       "      <th>6</th>\n",
       "      <td>3</td>\n",
       "      <td>4.0</td>\n",
       "      <td>1620</td>\n",
       "      <td>847770</td>\n",
       "      <td>2011</td>\n",
       "      <td>10244.94</td>\n",
       "      <td>LA</td>\n",
       "    </tr>\n",
       "    <tr>\n",
       "      <th>7</th>\n",
       "      <td>3</td>\n",
       "      <td>2.0</td>\n",
       "      <td>2077</td>\n",
       "      <td>646760</td>\n",
       "      <td>1926</td>\n",
       "      <td>7924.68</td>\n",
       "      <td>LA</td>\n",
       "    </tr>\n",
       "    <tr>\n",
       "      <th>11</th>\n",
       "      <td>0</td>\n",
       "      <td>0.0</td>\n",
       "      <td>1200</td>\n",
       "      <td>5328</td>\n",
       "      <td>1972</td>\n",
       "      <td>91.60</td>\n",
       "      <td>LA</td>\n",
       "    </tr>\n",
       "    <tr>\n",
       "      <th>14</th>\n",
       "      <td>0</td>\n",
       "      <td>0.0</td>\n",
       "      <td>171</td>\n",
       "      <td>6920</td>\n",
       "      <td>1973</td>\n",
       "      <td>255.17</td>\n",
       "      <td>LA</td>\n",
       "    </tr>\n",
       "    <tr>\n",
       "      <th>...</th>\n",
       "      <td>...</td>\n",
       "      <td>...</td>\n",
       "      <td>...</td>\n",
       "      <td>...</td>\n",
       "      <td>...</td>\n",
       "      <td>...</td>\n",
       "      <td>...</td>\n",
       "    </tr>\n",
       "    <tr>\n",
       "      <th>2152856</th>\n",
       "      <td>4</td>\n",
       "      <td>4.0</td>\n",
       "      <td>4375</td>\n",
       "      <td>422400</td>\n",
       "      <td>2015</td>\n",
       "      <td>13877.56</td>\n",
       "      <td>LA</td>\n",
       "    </tr>\n",
       "    <tr>\n",
       "      <th>2152858</th>\n",
       "      <td>4</td>\n",
       "      <td>3.0</td>\n",
       "      <td>2262</td>\n",
       "      <td>960756</td>\n",
       "      <td>2015</td>\n",
       "      <td>13494.52</td>\n",
       "      <td>orange</td>\n",
       "    </tr>\n",
       "    <tr>\n",
       "      <th>2152859</th>\n",
       "      <td>4</td>\n",
       "      <td>4.5</td>\n",
       "      <td>3127</td>\n",
       "      <td>536061</td>\n",
       "      <td>2014</td>\n",
       "      <td>6244.16</td>\n",
       "      <td>orange</td>\n",
       "    </tr>\n",
       "    <tr>\n",
       "      <th>2152861</th>\n",
       "      <td>3</td>\n",
       "      <td>2.5</td>\n",
       "      <td>1974</td>\n",
       "      <td>424353</td>\n",
       "      <td>2015</td>\n",
       "      <td>5302.70</td>\n",
       "      <td>orange</td>\n",
       "    </tr>\n",
       "    <tr>\n",
       "      <th>2152862</th>\n",
       "      <td>4</td>\n",
       "      <td>4.0</td>\n",
       "      <td>2110</td>\n",
       "      <td>554009</td>\n",
       "      <td>2014</td>\n",
       "      <td>6761.20</td>\n",
       "      <td>LA</td>\n",
       "    </tr>\n",
       "  </tbody>\n",
       "</table>\n",
       "<p>2025720 rows × 7 columns</p>\n",
       "</div>"
      ],
      "text/plain": [
       "         bedrooms  bathrooms  sqft  tax_value  year_built  tax_amount  county\n",
       "4               4        2.0  3633     296425        2005     6941.39      LA\n",
       "6               3        4.0  1620     847770        2011    10244.94      LA\n",
       "7               3        2.0  2077     646760        1926     7924.68      LA\n",
       "11              0        0.0  1200       5328        1972       91.60      LA\n",
       "14              0        0.0   171       6920        1973      255.17      LA\n",
       "...           ...        ...   ...        ...         ...         ...     ...\n",
       "2152856         4        4.0  4375     422400        2015    13877.56      LA\n",
       "2152858         4        3.0  2262     960756        2015    13494.52  orange\n",
       "2152859         4        4.5  3127     536061        2014     6244.16  orange\n",
       "2152861         3        2.5  1974     424353        2015     5302.70  orange\n",
       "2152862         4        4.0  2110     554009        2014     6761.20      LA\n",
       "\n",
       "[2025720 rows x 7 columns]"
      ]
     },
     "execution_count": 154,
     "metadata": {},
     "output_type": "execute_result"
    }
   ],
   "source": [
    "df[df.sqft <= df.sqft.mean() + (4 * df.sqft.std())]"
   ]
  },
  {
   "cell_type": "code",
   "execution_count": null,
   "id": "b5027ce0-f7cc-49bc-b66c-9a7e6afb34ec",
   "metadata": {},
   "outputs": [],
   "source": []
  },
  {
   "cell_type": "code",
   "execution_count": null,
   "id": "cc866e52-271b-425f-b174-a6d42c5f08ec",
   "metadata": {},
   "outputs": [],
   "source": []
  },
  {
   "cell_type": "code",
   "execution_count": 42,
   "id": "57c8b753-2a31-4b9e-af8f-e7c967031ad4",
   "metadata": {},
   "outputs": [
    {
     "data": {
      "image/png": "[encoded data removed]",
      "text/plain": [
       "<Figure size 1200x400 with 1 Axes>"
      ]
     },
     "metadata": {},
     "output_type": "display_data"
    }
   ],
   "source": [
    "plt.figure(figsize=(12,4))\n",
    "sns.countplot(data=df, x='bedrooms')\n",
    "plt.show()"
   ]
  },
  {
   "cell_type": "markdown",
   "id": "df854d03-b508-4c9d-9553-9ef4409ae9c4",
   "metadata": {},
   "source": [
    "**Takeaways:**\n",
    "- 11 nulls , will drop\n",
    "- 0.3% of data is 7+ bedrooms, considering dropping (6418 rows)\n",
    "- 2, 3, & 4 bedrooms are most common\n",
    "- keeping all bedrooms with 10k+ volume counts\n",
    "\n",
    "- dropping null for bedrooms drops all nulls for bathrooms as well"
   ]
  },
  {
   "cell_type": "markdown",
   "id": "9cd3de7d-212d-4a26-8b33-ebd88075814e",
   "metadata": {},
   "source": [
    "#### Bathrooms"
   ]
  },
  {
   "cell_type": "code",
   "execution_count": 35,
   "id": "95d75f8f-fe4c-4e5d-8428-cfb702220ade",
   "metadata": {},
   "outputs": [
    {
     "data": {
      "text/plain": [
       "0.00       4096\n",
       "0.50         13\n",
       "1.00     410357\n",
       "1.50      31011\n",
       "1.75          3\n",
       "2.00     931475\n",
       "2.50     140062\n",
       "3.00     400774\n",
       "3.50      22501\n",
       "4.00      62953\n",
       "4.50      10614\n",
       "5.00      14220\n",
       "5.50       1228\n",
       "6.00       2830\n",
       "6.50        150\n",
       "7.00        618\n",
       "7.50         66\n",
       "8.00        134\n",
       "8.50          1\n",
       "9.00         29\n",
       "9.50          3\n",
       "10.00        15\n",
       "11.00         5\n",
       "12.00         1\n",
       "13.00         1\n",
       "14.00         2\n",
       "15.00         1\n",
       "16.00         4\n",
       "18.00         2\n",
       "20.00         3\n",
       "Name: bathrooms, dtype: int64"
      ]
     },
     "execution_count": 35,
     "metadata": {},
     "output_type": "execute_result"
    }
   ],
   "source": [
    "df.bathrooms.value_counts(dropna=False).sort_index()"
   ]
  },
  {
   "cell_type": "code",
   "execution_count": 54,
   "id": "177c890d-01bb-4b55-b2c4-077c83f8642d",
   "metadata": {},
   "outputs": [
    {
     "data": {
      "image/png": "[encoded data removed]",
      "text/plain": [
       "<Figure size 1800x400 with 1 Axes>"
      ]
     },
     "metadata": {},
     "output_type": "display_data"
    }
   ],
   "source": [
    "plt.figure(figsize=(18,4))\n",
    "sns.countplot(data=df, x='bathrooms')\n",
    "plt.show()"
   ]
  },
  {
   "cell_type": "markdown",
   "id": "962e40bb-4e94-4410-b718-1d7e8be665f2",
   "metadata": {},
   "source": [
    "**Takeaway:**\n",
    "- 11 nulls, will drop\n",
    "- I won't drop bathrooms for now\n",
    "- My hypothesis is that the number of bathrooms is dependent on the number of bedrooms"
   ]
  },
  {
   "cell_type": "markdown",
   "id": "f7e57e36-e91a-4548-81e3-e156f0589c0b",
   "metadata": {},
   "source": [
    "#### Square feet"
   ]
  },
  {
   "cell_type": "code",
   "execution_count": 64,
   "id": "6a8a657b-4c77-4e96-84b6-33dd0a0de8de",
   "metadata": {},
   "outputs": [
    {
     "data": {
      "text/html": [
       "<div>\n",
       "<style scoped>\n",
       "    .dataframe tbody tr th:only-of-type {\n",
       "        vertical-align: middle;\n",
       "    }\n",
       "\n",
       "    .dataframe tbody tr th {\n",
       "        vertical-align: top;\n",
       "    }\n",
       "\n",
       "    .dataframe thead th {\n",
       "        text-align: right;\n",
       "    }\n",
       "</style>\n",
       "<table border=\"1\" class=\"dataframe\">\n",
       "  <thead>\n",
       "    <tr style=\"text-align: right;\">\n",
       "      <th></th>\n",
       "      <th>bedrooms</th>\n",
       "      <th>bathrooms</th>\n",
       "      <th>sqft</th>\n",
       "      <th>tax_value</th>\n",
       "      <th>year_built</th>\n",
       "      <th>tax_amount</th>\n",
       "      <th>fips</th>\n",
       "    </tr>\n",
       "  </thead>\n",
       "  <tbody>\n",
       "    <tr>\n",
       "      <th>0</th>\n",
       "      <td>0.0</td>\n",
       "      <td>0.0</td>\n",
       "      <td>NaN</td>\n",
       "      <td>27516.0</td>\n",
       "      <td>NaN</td>\n",
       "      <td>NaN</td>\n",
       "      <td>6037.0</td>\n",
       "    </tr>\n",
       "    <tr>\n",
       "      <th>1</th>\n",
       "      <td>0.0</td>\n",
       "      <td>0.0</td>\n",
       "      <td>NaN</td>\n",
       "      <td>10.0</td>\n",
       "      <td>NaN</td>\n",
       "      <td>NaN</td>\n",
       "      <td>6037.0</td>\n",
       "    </tr>\n",
       "    <tr>\n",
       "      <th>2</th>\n",
       "      <td>0.0</td>\n",
       "      <td>0.0</td>\n",
       "      <td>NaN</td>\n",
       "      <td>10.0</td>\n",
       "      <td>NaN</td>\n",
       "      <td>NaN</td>\n",
       "      <td>6037.0</td>\n",
       "    </tr>\n",
       "    <tr>\n",
       "      <th>3</th>\n",
       "      <td>0.0</td>\n",
       "      <td>0.0</td>\n",
       "      <td>NaN</td>\n",
       "      <td>2108.0</td>\n",
       "      <td>NaN</td>\n",
       "      <td>174.21</td>\n",
       "      <td>6037.0</td>\n",
       "    </tr>\n",
       "    <tr>\n",
       "      <th>4</th>\n",
       "      <td>4.0</td>\n",
       "      <td>2.0</td>\n",
       "      <td>3633.0</td>\n",
       "      <td>296425.0</td>\n",
       "      <td>2005.0</td>\n",
       "      <td>6941.39</td>\n",
       "      <td>6037.0</td>\n",
       "    </tr>\n",
       "  </tbody>\n",
       "</table>\n",
       "</div>"
      ],
      "text/plain": [
       "   bedrooms  bathrooms    sqft  tax_value  year_built  tax_amount    fips\n",
       "0       0.0        0.0     NaN    27516.0         NaN         NaN  6037.0\n",
       "1       0.0        0.0     NaN       10.0         NaN         NaN  6037.0\n",
       "2       0.0        0.0     NaN       10.0         NaN         NaN  6037.0\n",
       "3       0.0        0.0     NaN     2108.0         NaN      174.21  6037.0\n",
       "4       4.0        2.0  3633.0   296425.0      2005.0     6941.39  6037.0"
      ]
     },
     "execution_count": 64,
     "metadata": {},
     "output_type": "execute_result"
    }
   ],
   "source": [
    "df.head()"
   ]
  },
  {
   "cell_type": "code",
   "execution_count": 36,
   "id": "bd62211c-2737-473e-85e3-7c509f6fbd07",
   "metadata": {},
   "outputs": [
    {
     "data": {
      "text/plain": [
       "count    2.033172e+06\n",
       "mean     1.751421e+03\n",
       "std      7.258099e+02\n",
       "min      1.000000e+00\n",
       "25%      1.242000e+03\n",
       "50%      1.587000e+03\n",
       "75%      2.106000e+03\n",
       "max      2.422000e+04\n",
       "Name: sqft, dtype: float64"
      ]
     },
     "execution_count": 36,
     "metadata": {},
     "output_type": "execute_result"
    }
   ],
   "source": [
    "df.sqft.describe()"
   ]
  },
  {
   "cell_type": "code",
   "execution_count": 42,
   "id": "e5c166ad-b1fe-458b-8539-b75b499b8948",
   "metadata": {},
   "outputs": [
    {
     "data": {
      "text/plain": [
       "1751.420816832024"
      ]
     },
     "execution_count": 42,
     "metadata": {},
     "output_type": "execute_result"
    }
   ],
   "source": [
    "df.sqft.mean()"
   ]
  },
  {
   "cell_type": "code",
   "execution_count": 39,
   "id": "2f7185ef-aacc-49d6-9a2d-b56e12ebd27c",
   "metadata": {},
   "outputs": [
    {
     "data": {
      "text/plain": [
       "725.8099250417995"
      ]
     },
     "execution_count": 39,
     "metadata": {},
     "output_type": "execute_result"
    }
   ],
   "source": [
    "df.sqft.std()"
   ]
  },
  {
   "cell_type": "code",
   "execution_count": 40,
   "id": "184fa63c-b45e-448b-9711-93e8f764f007",
   "metadata": {},
   "outputs": [
    {
     "data": {
      "text/plain": [
       "1025.6108917902245"
      ]
     },
     "execution_count": 40,
     "metadata": {},
     "output_type": "execute_result"
    }
   ],
   "source": [
    "df.sqft.mean() - df.sqft.std()"
   ]
  },
  {
   "cell_type": "code",
   "execution_count": 41,
   "id": "bb90c98f-423a-47aa-8fb1-c89219c41a59",
   "metadata": {},
   "outputs": [
    {
     "data": {
      "text/plain": [
       "3203.0406669156228"
      ]
     },
     "execution_count": 41,
     "metadata": {},
     "output_type": "execute_result"
    }
   ],
   "source": [
    "df.sqft.mean() + (2 * df.sqft.std())"
   ]
  },
  {
   "cell_type": "code",
   "execution_count": 44,
   "id": "3dfbc81d-5b4c-4fce-a8ce-5de32f548c0a",
   "metadata": {},
   "outputs": [
    {
     "data": {
      "text/html": [
       "<div>\n",
       "<style scoped>\n",
       "    .dataframe tbody tr th:only-of-type {\n",
       "        vertical-align: middle;\n",
       "    }\n",
       "\n",
       "    .dataframe tbody tr th {\n",
       "        vertical-align: top;\n",
       "    }\n",
       "\n",
       "    .dataframe thead th {\n",
       "        text-align: right;\n",
       "    }\n",
       "</style>\n",
       "<table border=\"1\" class=\"dataframe\">\n",
       "  <thead>\n",
       "    <tr style=\"text-align: right;\">\n",
       "      <th></th>\n",
       "      <th>bedrooms</th>\n",
       "      <th>bathrooms</th>\n",
       "      <th>sqft</th>\n",
       "      <th>tax_value</th>\n",
       "      <th>year_built</th>\n",
       "      <th>tax_amount</th>\n",
       "      <th>county</th>\n",
       "    </tr>\n",
       "  </thead>\n",
       "  <tbody>\n",
       "    <tr>\n",
       "      <th>4</th>\n",
       "      <td>4</td>\n",
       "      <td>2.0</td>\n",
       "      <td>3633</td>\n",
       "      <td>296425</td>\n",
       "      <td>2005</td>\n",
       "      <td>6941.39</td>\n",
       "      <td>LA</td>\n",
       "    </tr>\n",
       "    <tr>\n",
       "      <th>6</th>\n",
       "      <td>3</td>\n",
       "      <td>4.0</td>\n",
       "      <td>1620</td>\n",
       "      <td>847770</td>\n",
       "      <td>2011</td>\n",
       "      <td>10244.94</td>\n",
       "      <td>LA</td>\n",
       "    </tr>\n",
       "    <tr>\n",
       "      <th>7</th>\n",
       "      <td>3</td>\n",
       "      <td>2.0</td>\n",
       "      <td>2077</td>\n",
       "      <td>646760</td>\n",
       "      <td>1926</td>\n",
       "      <td>7924.68</td>\n",
       "      <td>LA</td>\n",
       "    </tr>\n",
       "    <tr>\n",
       "      <th>11</th>\n",
       "      <td>0</td>\n",
       "      <td>0.0</td>\n",
       "      <td>1200</td>\n",
       "      <td>5328</td>\n",
       "      <td>1972</td>\n",
       "      <td>91.60</td>\n",
       "      <td>LA</td>\n",
       "    </tr>\n",
       "    <tr>\n",
       "      <th>14</th>\n",
       "      <td>0</td>\n",
       "      <td>0.0</td>\n",
       "      <td>171</td>\n",
       "      <td>6920</td>\n",
       "      <td>1973</td>\n",
       "      <td>255.17</td>\n",
       "      <td>LA</td>\n",
       "    </tr>\n",
       "    <tr>\n",
       "      <th>...</th>\n",
       "      <td>...</td>\n",
       "      <td>...</td>\n",
       "      <td>...</td>\n",
       "      <td>...</td>\n",
       "      <td>...</td>\n",
       "      <td>...</td>\n",
       "      <td>...</td>\n",
       "    </tr>\n",
       "    <tr>\n",
       "      <th>2152855</th>\n",
       "      <td>3</td>\n",
       "      <td>2.5</td>\n",
       "      <td>1809</td>\n",
       "      <td>405547</td>\n",
       "      <td>2012</td>\n",
       "      <td>4181.10</td>\n",
       "      <td>orange</td>\n",
       "    </tr>\n",
       "    <tr>\n",
       "      <th>2152858</th>\n",
       "      <td>4</td>\n",
       "      <td>3.0</td>\n",
       "      <td>2262</td>\n",
       "      <td>960756</td>\n",
       "      <td>2015</td>\n",
       "      <td>13494.52</td>\n",
       "      <td>orange</td>\n",
       "    </tr>\n",
       "    <tr>\n",
       "      <th>2152859</th>\n",
       "      <td>4</td>\n",
       "      <td>4.5</td>\n",
       "      <td>3127</td>\n",
       "      <td>536061</td>\n",
       "      <td>2014</td>\n",
       "      <td>6244.16</td>\n",
       "      <td>orange</td>\n",
       "    </tr>\n",
       "    <tr>\n",
       "      <th>2152861</th>\n",
       "      <td>3</td>\n",
       "      <td>2.5</td>\n",
       "      <td>1974</td>\n",
       "      <td>424353</td>\n",
       "      <td>2015</td>\n",
       "      <td>5302.70</td>\n",
       "      <td>orange</td>\n",
       "    </tr>\n",
       "    <tr>\n",
       "      <th>2152862</th>\n",
       "      <td>4</td>\n",
       "      <td>4.0</td>\n",
       "      <td>2110</td>\n",
       "      <td>554009</td>\n",
       "      <td>2014</td>\n",
       "      <td>6761.20</td>\n",
       "      <td>LA</td>\n",
       "    </tr>\n",
       "  </tbody>\n",
       "</table>\n",
       "<p>2007369 rows × 7 columns</p>\n",
       "</div>"
      ],
      "text/plain": [
       "         bedrooms  bathrooms  sqft  tax_value  year_built  tax_amount  county\n",
       "4               4        2.0  3633     296425        2005     6941.39      LA\n",
       "6               3        4.0  1620     847770        2011    10244.94      LA\n",
       "7               3        2.0  2077     646760        1926     7924.68      LA\n",
       "11              0        0.0  1200       5328        1972       91.60      LA\n",
       "14              0        0.0   171       6920        1973      255.17      LA\n",
       "...           ...        ...   ...        ...         ...         ...     ...\n",
       "2152855         3        2.5  1809     405547        2012     4181.10  orange\n",
       "2152858         4        3.0  2262     960756        2015    13494.52  orange\n",
       "2152859         4        4.5  3127     536061        2014     6244.16  orange\n",
       "2152861         3        2.5  1974     424353        2015     5302.70  orange\n",
       "2152862         4        4.0  2110     554009        2014     6761.20      LA\n",
       "\n",
       "[2007369 rows x 7 columns]"
      ]
     },
     "execution_count": 44,
     "metadata": {},
     "output_type": "execute_result"
    }
   ],
   "source": [
    "df[df.sqft <= df.sqft.mean() + (3 * df.sqft.std())]"
   ]
  },
  {
   "cell_type": "code",
   "execution_count": 119,
   "id": "beb3fe96-76fc-4b99-8f94-266eea1eb1d3",
   "metadata": {},
   "outputs": [
    {
     "data": {
      "text/plain": [
       "0.0    8261\n",
       "2.0     102\n",
       "3.0      51\n",
       "1.0      38\n",
       "4.0      13\n",
       "5.0       9\n",
       "6.0       3\n",
       "Name: bedrooms, dtype: int64"
      ]
     },
     "execution_count": 119,
     "metadata": {},
     "output_type": "execute_result"
    }
   ],
   "source": [
    "df[df.sqft.isnull()].bedrooms.value_counts()"
   ]
  },
  {
   "cell_type": "code",
   "execution_count": 120,
   "id": "69e1b9e8-f058-450d-9a47-fcd14dec92a9",
   "metadata": {},
   "outputs": [
    {
     "data": {
      "text/plain": [
       "0.0    8260\n",
       "1.0     135\n",
       "2.0      44\n",
       "3.0      16\n",
       "4.0       6\n",
       "1.5       5\n",
       "5.0       3\n",
       "6.0       3\n",
       "3.5       2\n",
       "7.0       1\n",
       "2.5       1\n",
       "4.5       1\n",
       "Name: bathrooms, dtype: int64"
      ]
     },
     "execution_count": 120,
     "metadata": {},
     "output_type": "execute_result"
    }
   ],
   "source": [
    "df[df.sqft.isnull()].bathrooms.value_counts()"
   ]
  },
  {
   "cell_type": "code",
   "execution_count": 158,
   "id": "b9113bfe-855a-439d-9a94-abee6bd66e51",
   "metadata": {},
   "outputs": [],
   "source": [
    "new_df = new_df.dropna(subset=['sqft'])"
   ]
  },
  {
   "cell_type": "code",
   "execution_count": 159,
   "id": "81ce82dc-fa03-42d3-a3bc-9629d4b8782c",
   "metadata": {},
   "outputs": [
    {
     "data": {
      "text/plain": [
       "bedrooms         0\n",
       "bathrooms        0\n",
       "sqft             0\n",
       "tax_value      115\n",
       "year_built    1459\n",
       "tax_amount    2683\n",
       "fips             0\n",
       "dtype: int64"
      ]
     },
     "execution_count": 159,
     "metadata": {},
     "output_type": "execute_result"
    }
   ],
   "source": [
    "new_df.isnull().sum()"
   ]
  },
  {
   "cell_type": "code",
   "execution_count": 161,
   "id": "37f66139-c0c8-4489-b408-9d93cffd601a",
   "metadata": {},
   "outputs": [
    {
     "data": {
      "text/plain": [
       "(2144375, 7)"
      ]
     },
     "execution_count": 161,
     "metadata": {},
     "output_type": "execute_result"
    }
   ],
   "source": [
    "new_df.shape"
   ]
  },
  {
   "cell_type": "code",
   "execution_count": 167,
   "id": "18cf402d-caba-457f-969f-a7b495d9b22e",
   "metadata": {},
   "outputs": [
    {
     "data": {
      "text/plain": [
       "8488"
      ]
     },
     "execution_count": 167,
     "metadata": {},
     "output_type": "execute_result"
    }
   ],
   "source": [
    "df.shape[0] - new_df.shape[0]"
   ]
  },
  {
   "cell_type": "code",
   "execution_count": null,
   "id": "b539006b-d3ef-4169-9d60-a8d387c68157",
   "metadata": {},
   "outputs": [],
   "source": []
  },
  {
   "cell_type": "markdown",
   "id": "b4d8bdc9-d7bd-4000-a59b-dd755cb13cfb",
   "metadata": {},
   "source": [
    "#### Year built"
   ]
  },
  {
   "cell_type": "code",
   "execution_count": 105,
   "id": "f47e36d8-4128-4e99-a852-b27f46fa0a11",
   "metadata": {},
   "outputs": [
    {
     "data": {
      "text/html": [
       "<div>\n",
       "<style scoped>\n",
       "    .dataframe tbody tr th:only-of-type {\n",
       "        vertical-align: middle;\n",
       "    }\n",
       "\n",
       "    .dataframe tbody tr th {\n",
       "        vertical-align: top;\n",
       "    }\n",
       "\n",
       "    .dataframe thead th {\n",
       "        text-align: right;\n",
       "    }\n",
       "</style>\n",
       "<table border=\"1\" class=\"dataframe\">\n",
       "  <thead>\n",
       "    <tr style=\"text-align: right;\">\n",
       "      <th></th>\n",
       "      <th>bedrooms</th>\n",
       "      <th>bathrooms</th>\n",
       "      <th>sqft</th>\n",
       "      <th>tax_value</th>\n",
       "      <th>year_built</th>\n",
       "      <th>tax_amount</th>\n",
       "      <th>fips</th>\n",
       "    </tr>\n",
       "  </thead>\n",
       "  <tbody>\n",
       "    <tr>\n",
       "      <th>0</th>\n",
       "      <td>0.0</td>\n",
       "      <td>0.0</td>\n",
       "      <td>NaN</td>\n",
       "      <td>27516.0</td>\n",
       "      <td>NaN</td>\n",
       "      <td>NaN</td>\n",
       "      <td>6037.0</td>\n",
       "    </tr>\n",
       "    <tr>\n",
       "      <th>1</th>\n",
       "      <td>0.0</td>\n",
       "      <td>0.0</td>\n",
       "      <td>NaN</td>\n",
       "      <td>10.0</td>\n",
       "      <td>NaN</td>\n",
       "      <td>NaN</td>\n",
       "      <td>6037.0</td>\n",
       "    </tr>\n",
       "    <tr>\n",
       "      <th>2</th>\n",
       "      <td>0.0</td>\n",
       "      <td>0.0</td>\n",
       "      <td>NaN</td>\n",
       "      <td>10.0</td>\n",
       "      <td>NaN</td>\n",
       "      <td>NaN</td>\n",
       "      <td>6037.0</td>\n",
       "    </tr>\n",
       "    <tr>\n",
       "      <th>3</th>\n",
       "      <td>0.0</td>\n",
       "      <td>0.0</td>\n",
       "      <td>NaN</td>\n",
       "      <td>2108.0</td>\n",
       "      <td>NaN</td>\n",
       "      <td>174.21</td>\n",
       "      <td>6037.0</td>\n",
       "    </tr>\n",
       "    <tr>\n",
       "      <th>4</th>\n",
       "      <td>4.0</td>\n",
       "      <td>2.0</td>\n",
       "      <td>3633.0</td>\n",
       "      <td>296425.0</td>\n",
       "      <td>2005.0</td>\n",
       "      <td>6941.39</td>\n",
       "      <td>6037.0</td>\n",
       "    </tr>\n",
       "  </tbody>\n",
       "</table>\n",
       "</div>"
      ],
      "text/plain": [
       "   bedrooms  bathrooms    sqft  tax_value  year_built  tax_amount    fips\n",
       "0       0.0        0.0     NaN    27516.0         NaN         NaN  6037.0\n",
       "1       0.0        0.0     NaN       10.0         NaN         NaN  6037.0\n",
       "2       0.0        0.0     NaN       10.0         NaN         NaN  6037.0\n",
       "3       0.0        0.0     NaN     2108.0         NaN      174.21  6037.0\n",
       "4       4.0        2.0  3633.0   296425.0      2005.0     6941.39  6037.0"
      ]
     },
     "execution_count": 105,
     "metadata": {},
     "output_type": "execute_result"
    }
   ],
   "source": [
    "df.head()"
   ]
  },
  {
   "cell_type": "code",
   "execution_count": null,
   "id": "ef208ea4-a5e2-4ec0-b816-f325091c7a2b",
   "metadata": {},
   "outputs": [],
   "source": []
  },
  {
   "cell_type": "code",
   "execution_count": 112,
   "id": "13213a01-0b3d-4056-976b-8d4fe63d4f0d",
   "metadata": {},
   "outputs": [
    {
     "data": {
      "text/plain": [
       "bedrooms        11\n",
       "bathrooms       11\n",
       "sqft          8484\n",
       "tax_value      493\n",
       "year_built    9337\n",
       "tax_amount    4442\n",
       "fips             0\n",
       "dtype: int64"
      ]
     },
     "execution_count": 112,
     "metadata": {},
     "output_type": "execute_result"
    }
   ],
   "source": [
    "df.isnull().sum()"
   ]
  },
  {
   "cell_type": "code",
   "execution_count": 113,
   "id": "dc110aa7-2d0e-4067-8a81-40066345ec99",
   "metadata": {},
   "outputs": [
    {
     "data": {
      "text/plain": [
       "22778"
      ]
     },
     "execution_count": 113,
     "metadata": {},
     "output_type": "execute_result"
    }
   ],
   "source": [
    "df.isnull().sum().sum()"
   ]
  },
  {
   "cell_type": "code",
   "execution_count": 168,
   "id": "f720bfb2-77f7-41a5-af48-a3335a34d216",
   "metadata": {},
   "outputs": [],
   "source": [
    "new_df = new_df.dropna(subset=['year_built'])"
   ]
  },
  {
   "cell_type": "code",
   "execution_count": 169,
   "id": "53f8411f-53c1-45db-ae9e-4b1bf629b5e1",
   "metadata": {},
   "outputs": [
    {
     "data": {
      "text/plain": [
       "9947"
      ]
     },
     "execution_count": 169,
     "metadata": {},
     "output_type": "execute_result"
    }
   ],
   "source": [
    "df.shape[0] - new_df.shape[0]"
   ]
  },
  {
   "cell_type": "code",
   "execution_count": 170,
   "id": "cecab6ef-2f4b-4eb1-9cfe-adb7cc8edb85",
   "metadata": {},
   "outputs": [
    {
     "data": {
      "text/plain": [
       "bedrooms         0\n",
       "bathrooms        0\n",
       "sqft             0\n",
       "tax_value      113\n",
       "year_built       0\n",
       "tax_amount    2663\n",
       "fips             0\n",
       "dtype: int64"
      ]
     },
     "execution_count": 170,
     "metadata": {},
     "output_type": "execute_result"
    }
   ],
   "source": [
    "new_df.isnull().sum()"
   ]
  },
  {
   "cell_type": "code",
   "execution_count": 171,
   "id": "eb1fd9b1-510c-4c8c-be3a-1c8ffd9eec9d",
   "metadata": {},
   "outputs": [],
   "source": [
    "new_df = new_df.dropna(subset=['tax_amount'])"
   ]
  },
  {
   "cell_type": "code",
   "execution_count": 172,
   "id": "cfbebbdd-255e-434f-be3b-1439693e962b",
   "metadata": {},
   "outputs": [
    {
     "data": {
      "text/plain": [
       "bedrooms       0\n",
       "bathrooms      0\n",
       "sqft           0\n",
       "tax_value     18\n",
       "year_built     0\n",
       "tax_amount     0\n",
       "fips           0\n",
       "dtype: int64"
      ]
     },
     "execution_count": 172,
     "metadata": {},
     "output_type": "execute_result"
    }
   ],
   "source": [
    "new_df.isnull().sum()"
   ]
  },
  {
   "cell_type": "code",
   "execution_count": 173,
   "id": "02c1d29a-5b7b-41b0-b926-eff365c48eb1",
   "metadata": {},
   "outputs": [],
   "source": [
    "new_df = new_df.dropna(subset=['tax_value'])"
   ]
  },
  {
   "cell_type": "code",
   "execution_count": 174,
   "id": "f45b157f-5227-4e3e-83cb-7f9265744bf0",
   "metadata": {},
   "outputs": [
    {
     "data": {
      "text/plain": [
       "bedrooms      0\n",
       "bathrooms     0\n",
       "sqft          0\n",
       "tax_value     0\n",
       "year_built    0\n",
       "tax_amount    0\n",
       "fips          0\n",
       "dtype: int64"
      ]
     },
     "execution_count": 174,
     "metadata": {},
     "output_type": "execute_result"
    }
   ],
   "source": [
    "new_df.isnull().sum()"
   ]
  },
  {
   "cell_type": "code",
   "execution_count": 176,
   "id": "cc6e787e-fccd-4c62-833d-38d479ce472e",
   "metadata": {},
   "outputs": [
    {
     "data": {
      "text/plain": [
       "12628"
      ]
     },
     "execution_count": 176,
     "metadata": {},
     "output_type": "execute_result"
    }
   ],
   "source": [
    "df.shape[0] - new_df.shape[0]"
   ]
  },
  {
   "cell_type": "code",
   "execution_count": 196,
   "id": "267fcb59-3275-4b89-84bc-0da259ea82ec",
   "metadata": {},
   "outputs": [
    {
     "name": "stdout",
     "output_type": "stream",
     "text": [
      "Percentage of data dropped due to nulls: 0.59%\n"
     ]
    }
   ],
   "source": [
    "print(f'Percentage of data dropped due to nulls: {(df.shape[0] - new_df.shape[0]) / df.shape[0]:.2%}')"
   ]
  },
  {
   "cell_type": "markdown",
   "id": "ef56ef48-5191-4b6e-8ddb-8880bb8370c6",
   "metadata": {},
   "source": [
    "### Drop all nulls"
   ]
  },
  {
   "cell_type": "code",
   "execution_count": 197,
   "id": "cf303e89-039a-4f6f-bd04-415ce9951dc8",
   "metadata": {},
   "outputs": [],
   "source": [
    "new_df2 = df.dropna()"
   ]
  },
  {
   "cell_type": "code",
   "execution_count": null,
   "id": "5aba4d2d-46be-4c7d-a4a4-fce78197b132",
   "metadata": {},
   "outputs": [],
   "source": []
  },
  {
   "cell_type": "code",
   "execution_count": null,
   "id": "16568a28-6653-4056-8414-d69270d88dcb",
   "metadata": {},
   "outputs": [],
   "source": []
  }
 ],
 "metadata": {
  "kernelspec": {
   "display_name": "Python 3 (ipykernel)",
   "language": "python",
   "name": "python3"
  },
  "language_info": {
   "codemirror_mode": {
    "name": "ipython",
    "version": 3
   },
   "file_extension": ".py",
   "mimetype": "text/x-python",
   "name": "python",
   "nbconvert_exporter": "python",
   "pygments_lexer": "ipython3",
   "version": "3.9.13"
  }
 },
 "nbformat": 4,
 "nbformat_minor": 5
}
